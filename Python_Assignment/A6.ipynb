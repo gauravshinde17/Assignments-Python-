{
 "cells": [
  {
   "cell_type": "markdown",
   "id": "d0c8b033-7293-46a7-9b3e-4a75200eb109",
   "metadata": {},
   "source": [
    " Short Answer Questions"
   ]
  },
  {
   "cell_type": "markdown",
   "id": "222c8594-a336-438b-8d81-72285ebc4873",
   "metadata": {},
   "source": [
    " Q_1. Explain the difference between def statements and lambda expressions. Give an example of each."
   ]
  },
  {
   "cell_type": "markdown",
   "id": "e30fc769-a30c-460b-94a0-a6d916ac1107",
   "metadata": {},
   "source": [
    "* A def statement is used to define a named function that can have multiple lines, complex logic, and statements. It allows adding docstrings,            annotations, and is generally more readable and reusable for larger tasks.\n",
    "\n",
    "* A lambda expression creates an anonymous (unnamed) function limited to a single expression. It cannot contain multiple statements and is usually used   for short, throwaway functions, often passed as arguments to functions like map(), filter(), or sorted().\n",
    "\n",
    "* In short, def is more powerful and flexible, while lambda is more concise but limited."
   ]
  },
  {
   "cell_type": "markdown",
   "id": "b8ace21f-a93f-4ba3-9829-3cf76ede422a",
   "metadata": {},
   "source": [
    " Q_2. List and explain three benefits of using lambda expressions."
   ]
  },
  {
   "cell_type": "markdown",
   "id": "033a7d55-dd67-458c-827d-682902152a17",
   "metadata": {},
   "source": [
    "* Lambda expressions help make code shorter by allowing you to define functions in a single line. \n",
    "\n",
    "* They are useful for creating small, throwaway functions without needing to formally name them. \n",
    "\n",
    "* They work well with functions like map(), filter(), and sorted(), making your code more concise and readable in functional programming tasks."
   ]
  },
  {
   "cell_type": "markdown",
   "id": "142457e4-4f19-4014-9ff6-0cb919ec410b",
   "metadata": {},
   "source": [
    " Q_3. Compare map(), filter(), and reduce() with one-line examples using a lambda function and a list."
   ]
  },
  {
   "cell_type": "markdown",
   "id": "ac0a836c-40dc-4a10-a0e5-d97ff1e62088",
   "metadata": {},
   "source": [
    "* map() applies a function to each item in a list.\n",
    "  Example: list(map(lambda x: x * 2, [1, 2, 3])) → [2, 4, 6]\n",
    "\n",
    "* filter() keeps only items that pass a condition.\n",
    "  Example: list(filter(lambda x: x % 2 == 0, [1, 2, 3, 4])) → [2, 4]\n",
    "\n",
    "* reduce() combines all items into a single result.\n",
    "  Example: from functools import reduce; reduce(lambda x, y: x + y, [1, 2, 3, 4]) → 10"
   ]
  },
  {
   "cell_type": "markdown",
   "id": "2a194bf1-abcd-4165-8a5a-43ea23e749b3",
   "metadata": {},
   "source": [
    " Q_4. What are function annotations in Python? Write a function that uses them."
   ]
  },
  {
   "cell_type": "markdown",
   "id": "697a66de-58bd-4a04-a5bd-de27eabfcf44",
   "metadata": {},
   "source": [
    "* Function annotations in Python are optional metadata added to function parameters and return types to describe what type of value is expected. They     don’t enforce types but help with readability and tools like type checkers.\n",
    "\n",
    "      def greet(name: str, age: int) -> str:\n",
    "        return f\"Hello {name}, you are {age} years old.\"\n",
    "\n",
    "* Here, name: str and age: int are parameter annotations, and -> str is the return annotation."
   ]
  },
  {
   "cell_type": "markdown",
   "id": "55da2595-3787-4fc4-8d2b-9348bd6bebd3",
   "metadata": {},
   "source": [
    " Q_5. What is a recursive function? Write a simple recursive function to calculate the factorial of a number."
   ]
  },
  {
   "cell_type": "markdown",
   "id": "770afec2-e247-4589-afd2-131c3c678165",
   "metadata": {},
   "source": [
    "* A recursive function is a function that calls itself to solve smaller parts of a problem until it reaches a base case."
   ]
  },
  {
   "cell_type": "code",
   "execution_count": 1,
   "id": "7a099819-fce2-4ea7-86f6-141766ef42af",
   "metadata": {},
   "outputs": [],
   "source": [
    "# Example of a recursive factorial function:\n",
    "def factorial(n):\n",
    "    if n == 0 or n == 1:\n",
    "        return 1\n",
    "    else:\n",
    "        return n * factorial(n - 1)"
   ]
  },
  {
   "cell_type": "code",
   "execution_count": 2,
   "id": "530d7382-bbfb-4dd0-a0bd-d77ae626242f",
   "metadata": {},
   "outputs": [
    {
     "data": {
      "text/plain": [
       "362880"
      ]
     },
     "execution_count": 2,
     "metadata": {},
     "output_type": "execute_result"
    }
   ],
   "source": [
    "factorial(9)"
   ]
  },
  {
   "cell_type": "markdown",
   "id": "b4798455-3d3e-4872-9a93-7ae999d581f2",
   "metadata": {},
   "source": [
    "* Here, factorial keeps calling itself with n - 1 until it reaches 1."
   ]
  },
  {
   "cell_type": "markdown",
   "id": "6863d7ec-fdb6-434e-8501-82ff73fd3709",
   "metadata": {},
   "source": [
    " Q_6. State five design guidelines you should follow while writing functions in Python."
   ]
  },
  {
   "cell_type": "markdown",
   "id": "a93d468b-f332-4151-b35e-7270aedd906c",
   "metadata": {},
   "source": [
    "* Use clear and descriptive function names that explain what the function does.\n",
    "\n",
    "* Keep functions small and focused on a single task or responsibility.\n",
    "\n",
    "* Use meaningful parameter names and provide default values where appropriate.\n",
    "\n",
    "* Include docstrings to describe the purpose, inputs, and outputs of the function.\n",
    "\n",
    "* Avoid using global variables inside functions; use parameters and return values to pass data instead."
   ]
  },
  {
   "cell_type": "markdown",
   "id": "739bedcb-52fe-41a7-8c7e-a55a8ff82d55",
   "metadata": {},
   "source": [
    " Q_7. Name at least three ways a function can communicate results to a caller and briefly explain each."
   ]
  },
  {
   "cell_type": "markdown",
   "id": "d637f339-1343-4803-8b19-0bb36418056b",
   "metadata": {},
   "source": [
    "* Return statement: The most common way; the function sends back a value using return, which the caller can use or store.\n",
    "\n",
    "* Modifying mutable arguments: The function changes the contents of mutable objects (like lists or dictionaries) passed as arguments, so the caller       sees the updated data.\n",
    "\n",
    "* Using global variables: The function updates variables defined outside its scope, allowing the caller to access the changed values after the function   runs (though this is generally discouraged)."
   ]
  },
  {
   "cell_type": "markdown",
   "id": "b138c78a-93c1-4dfc-99c2-9a5f032c6bb5",
   "metadata": {},
   "source": [
    " Coding Tasks"
   ]
  },
  {
   "cell_type": "markdown",
   "id": "7cad4f39-93d4-4d41-bcdc-65fba1d73ffe",
   "metadata": {},
   "source": [
    " Task 1: Write a lambda function that takes two numbers and returns their product. Assign it to a variable and call it with 5 and 7."
   ]
  },
  {
   "cell_type": "code",
   "execution_count": 3,
   "id": "8bf455ff-b0b1-4873-b553-9cdd27e54ce1",
   "metadata": {},
   "outputs": [
    {
     "name": "stdout",
     "output_type": "stream",
     "text": [
      "35\n"
     ]
    }
   ],
   "source": [
    "product = lambda x, y: x * y\n",
    "print(product(5, 7))"
   ]
  },
  {
   "cell_type": "markdown",
   "id": "70aa9955-679f-4b59-bc7e-f6c3c77978b9",
   "metadata": {},
   "source": [
    " Task 2: Use map() to square every number in a list [1, 2, 3, 4, 5]."
   ]
  },
  {
   "cell_type": "code",
   "execution_count": 4,
   "id": "9b1b97b9-e6ed-49af-b1eb-15f1a0cc01eb",
   "metadata": {},
   "outputs": [
    {
     "name": "stdout",
     "output_type": "stream",
     "text": [
      "[1, 4, 9, 16, 25]\n"
     ]
    }
   ],
   "source": [
    "list1 = [1, 2, 3, 4, 5]\n",
    "squ_num = list(map(lambda x: x * x, list1))\n",
    "print(squ_num)"
   ]
  },
  {
   "cell_type": "markdown",
   "id": "b6e15ce0-c9de-48e7-84a1-fdb35707d754",
   "metadata": {},
   "source": [
    " Task 3: Use filter() to extract only the even numbers from the list [10, 15, 20, 25, 30]."
   ]
  },
  {
   "cell_type": "code",
   "execution_count": 5,
   "id": "8779548e-ae3e-4fba-8592-5b4cf18d2c6f",
   "metadata": {},
   "outputs": [
    {
     "name": "stdout",
     "output_type": "stream",
     "text": [
      "[10, 20, 30]\n"
     ]
    }
   ],
   "source": [
    "list1 = [10, 15, 20, 25, 30]\n",
    "even_num = list(filter(lambda x: x % 2 == 0, list1))\n",
    "print(even_num)"
   ]
  },
  {
   "cell_type": "markdown",
   "id": "70daab05-07c7-41ea-ad36-3a52e9828016",
   "metadata": {},
   "source": [
    " Task 4: Use reduce() from functools to calculate the product of numbers in [1, 2, 3, 4, 5]."
   ]
  },
  {
   "cell_type": "code",
   "execution_count": 6,
   "id": "91ce15c1-5a0d-4497-8706-a8eace7117fe",
   "metadata": {},
   "outputs": [
    {
     "name": "stdout",
     "output_type": "stream",
     "text": [
      "120\n"
     ]
    }
   ],
   "source": [
    "from functools import reduce;\n",
    "list1 = [1, 2, 3, 4, 5]\n",
    "product = (reduce(lambda x, y: x * y, list1))\n",
    "print(product)"
   ]
  },
  {
   "cell_type": "markdown",
   "id": "f4c92274-4a47-432f-99eb-e587f1f2db21",
   "metadata": {},
   "source": [
    " Task 5: Create a function with annotations that:\n",
    " • takes an integer as input,\n",
    " • returns a string saying whether it is \"Even\" or \"Odd\"."
   ]
  },
  {
   "cell_type": "code",
   "execution_count": 7,
   "id": "9572663e-930d-4658-979d-242be873644c",
   "metadata": {},
   "outputs": [
    {
     "name": "stdin",
     "output_type": "stream",
     "text": [
      "Enter Number:  56\n"
     ]
    },
    {
     "name": "stdout",
     "output_type": "stream",
     "text": [
      "56 is Even\n"
     ]
    }
   ],
   "source": [
    "def check_even_odd(num: int) -> str:\n",
    "    if num % 2 == 0:\n",
    "        return \"Even\"\n",
    "    else:\n",
    "        return \"Odd\"\n",
    "\n",
    "user_num = int(input(\"Enter Number: \"))\n",
    "result = check_even_odd(user_num)\n",
    "print(f\"{user_num} is {result}\")"
   ]
  },
  {
   "cell_type": "markdown",
   "id": "2122e3a0-fc38-47c1-848e-47da904a52ea",
   "metadata": {},
   "source": [
    " Task 6: Write a recursive function to compute the sum of all numbers from 1 to n."
   ]
  },
  {
   "cell_type": "code",
   "execution_count": 8,
   "id": "776e974c-a768-4246-8b17-067b672671ef",
   "metadata": {},
   "outputs": [],
   "source": [
    "def sum(n):\n",
    "    if n == 0:\n",
    "        return 0\n",
    "    else:\n",
    "        return n + sum(n - 1)"
   ]
  },
  {
   "cell_type": "code",
   "execution_count": 9,
   "id": "64dbdcf0-dd1f-475e-9d77-fcebe8e87293",
   "metadata": {},
   "outputs": [
    {
     "data": {
      "text/plain": [
       "55"
      ]
     },
     "execution_count": 9,
     "metadata": {},
     "output_type": "execute_result"
    }
   ],
   "source": [
    "sum(10)"
   ]
  },
  {
   "cell_type": "markdown",
   "id": "f9998646-6d92-48cd-b528-92fd07e3fc14",
   "metadata": {},
   "source": [
    " Bonus Question: Write a function that returns different results using print, return, and yield. Call the function and show how each type of output works."
   ]
  },
  {
   "cell_type": "code",
   "execution_count": 10,
   "id": "8308150a-81d1-481c-be8f-103fc4af4489",
   "metadata": {},
   "outputs": [],
   "source": [
    "def demo_function():\n",
    "    print(\"This is printed inside the function\")\n",
    "    yield \"This is yielded by the function\"\n",
    "    return \"This is returned by the function\"\n"
   ]
  },
  {
   "cell_type": "code",
   "execution_count": 11,
   "id": "06f26133-ddb6-4c71-a5ce-5e7867fc7265",
   "metadata": {},
   "outputs": [
    {
     "data": {
      "text/plain": [
       "<generator object demo_function at 0x00000192D46B0B80>"
      ]
     },
     "execution_count": 11,
     "metadata": {},
     "output_type": "execute_result"
    }
   ],
   "source": [
    "demo_function()"
   ]
  },
  {
   "cell_type": "markdown",
   "id": "646ae386-a784-4e88-9d84-b967fd135956",
   "metadata": {},
   "source": [
    "\n"
   ]
  },
  {
   "cell_type": "code",
   "execution_count": null,
   "id": "8020f78c-ea88-4792-a1f9-25e92d9b7132",
   "metadata": {},
   "outputs": [],
   "source": []
  }
 ],
 "metadata": {
  "kernelspec": {
   "display_name": "Python 3 (ipykernel)",
   "language": "python",
   "name": "python3"
  },
  "language_info": {
   "codemirror_mode": {
    "name": "ipython",
    "version": 3
   },
   "file_extension": ".py",
   "mimetype": "text/x-python",
   "name": "python",
   "nbconvert_exporter": "python",
   "pygments_lexer": "ipython3",
   "version": "3.12.7"
  }
 },
 "nbformat": 4,
 "nbformat_minor": 5
}
