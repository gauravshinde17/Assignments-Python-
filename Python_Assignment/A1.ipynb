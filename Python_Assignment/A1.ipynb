{
 "cells": [
  {
   "cell_type": "markdown",
   "id": "e59ca6f1-4142-487b-8677-a263178d81b3",
   "metadata": {},
   "source": [
    " Question no 1\n",
    " Write a Python program to print your name and favourite colour on two separate lines."
   ]
  },
  {
   "cell_type": "code",
   "execution_count": 3,
   "id": "d67ce2f1-085d-44e3-9090-b9faa8a2c4f4",
   "metadata": {},
   "outputs": [
    {
     "name": "stdout",
     "output_type": "stream",
     "text": [
      "vivek\n",
      "purple\n"
     ]
    }
   ],
   "source": [
    "print(\"vivek\")\n",
    "print(\"purple\")"
   ]
  },
  {
   "cell_type": "markdown",
   "id": "3745f00d-5cf5-477a-9042-43faf9d2747c",
   "metadata": {},
   "source": [
    " Question no 2\n",
    " Write a Python program that prints the result of adding 7 and 8."
   ]
  },
  {
   "cell_type": "code",
   "execution_count": 4,
   "id": "acb69692-d0da-4e3f-bd37-bbd84f947b3e",
   "metadata": {},
   "outputs": [
    {
     "name": "stdout",
     "output_type": "stream",
     "text": [
      "15\n"
     ]
    }
   ],
   "source": [
    "r=7+8\n",
    "print(r)"
   ]
  },
  {
   "cell_type": "markdown",
   "id": "ee4d6837-0252-4b77-bcd5-e0997945a16a",
   "metadata": {},
   "source": [
    "Question no 3\n",
    " Use the print function to display the following text exactly as it is:\n",
    "\n",
    " Python is fun!\n",
    " Let's learn together."
   ]
  },
  {
   "cell_type": "code",
   "execution_count": 5,
   "id": "56c8d562-706f-4e06-9045-bcef344f7b8a",
   "metadata": {},
   "outputs": [
    {
     "name": "stdout",
     "output_type": "stream",
     "text": [
      "Python is fun!\n",
      "Let's learn together.\n"
     ]
    }
   ],
   "source": [
    "print(\"Python is fun!\\nLet's learn together.\")"
   ]
  },
  {
   "cell_type": "markdown",
   "id": "57bdc798-fd14-4155-8dd4-c2dd9a600f2a",
   "metadata": {},
   "source": [
    "Question no 4\n",
    " Write a Python program to calculate and print the result of multiplying 6 by 9."
   ]
  },
  {
   "cell_type": "code",
   "execution_count": 6,
   "id": "c0a7ca0e-d8e9-4d20-afb8-404d13d3ac49",
   "metadata": {},
   "outputs": [
    {
     "name": "stdout",
     "output_type": "stream",
     "text": [
      "54\n"
     ]
    }
   ],
   "source": [
    "m=6*9\n",
    "print(m)"
   ]
  },
  {
   "cell_type": "markdown",
   "id": "eb7c9522-98c0-4fb0-9944-b4273347efce",
   "metadata": {},
   "source": [
    "Question no 5\n",
    " Write a Python program that prints the result of adding 5  5 and multiplying 2 and 3 in a single line of code.\n",
    "\n",
    "  Take the name A as input from the user and print \"Hello A\", where A is the name in input.\n",
    "\n",
    "  You have x rupees in your savings. You google pay y rupees, print your bank balance\n",
    "\n",
    "  Print the first five letters of the English alphabet i.e. A, B, C, D and E. one below each other\n",
    "\n",
    "  Take two names A and B as input from the user, and print \"A says Hi to B\" (Without quotations), where A and B are the names in input."
   ]
  },
  {
   "cell_type": "code",
   "execution_count": 7,
   "id": "7c406b5f-0fd7-4287-a3f8-916c9d31b9e6",
   "metadata": {},
   "outputs": [
    {
     "name": "stdout",
     "output_type": "stream",
     "text": [
      "16\n"
     ]
    }
   ],
   "source": [
    "r=(5+5)\n",
    "s=(2*3)\n",
    "print(r+s)"
   ]
  },
  {
   "cell_type": "code",
   "execution_count": null,
   "id": "294f6941-632b-48dc-a052-269603d2ebf4",
   "metadata": {},
   "outputs": [],
   "source": []
  }
 ],
 "metadata": {
  "kernelspec": {
   "display_name": "Python 3 (ipykernel)",
   "language": "python",
   "name": "python3"
  },
  "language_info": {
   "codemirror_mode": {
    "name": "ipython",
    "version": 3
   },
   "file_extension": ".py",
   "mimetype": "text/x-python",
   "name": "python",
   "nbconvert_exporter": "python",
   "pygments_lexer": "ipython3",
   "version": "3.12.7"
  }
 },
 "nbformat": 4,
 "nbformat_minor": 5
}
