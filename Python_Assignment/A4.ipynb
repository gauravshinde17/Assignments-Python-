{
 "cells": [
  {
   "cell_type": "code",
   "execution_count": null,
   "id": "928b6194-5a3e-4213-b525-b3466f90c571",
   "metadata": {},
   "outputs": [],
   "source": [
    "Question_1\n",
    " Write a Python program that checks if a number entered by the user is even or odd.\n",
    " Print \"Even\" if the number is even and \"Odd\" if it is odd."
   ]
  },
  {
   "cell_type": "code",
   "execution_count": 2,
   "id": "64b52bef-ac9d-467b-b775-d120c5d930c2",
   "metadata": {},
   "outputs": [
    {
     "name": "stdin",
     "output_type": "stream",
     "text": [
      "ENTER THE NUMBER 3\n"
     ]
    },
    {
     "name": "stdout",
     "output_type": "stream",
     "text": [
      "NUMBER ENTERED IS ODD NUMBER\n"
     ]
    }
   ],
   "source": [
    "num = int(input(\"ENTER THE NUMBER\"))\n",
    "\n",
    "if num%2 == 0:\n",
    "    print(\"NUMBER ENTERED IS EVEN NUMBER\")\n",
    "elif num%num == 0:\n",
    "    print(\"NUMBER ENTERED IS ODD NUMBER\")\n",
    "else:\n",
    "    print(\"NULL\")"
   ]
  },
  {
   "cell_type": "code",
   "execution_count": null,
   "id": "57fb4b02-ce86-42de-a901-4d6958c87518",
   "metadata": {},
   "outputs": [],
   "source": [
    "Question_2\n",
    " Create a program that prompts the user for their age and prints whether they are a child 0-12, teenager 13-19, or adult (20 and above)."
   ]
  },
  {
   "cell_type": "code",
   "execution_count": 6,
   "id": "541252e8-f2b9-4a94-8755-b73945f91d06",
   "metadata": {},
   "outputs": [
    {
     "name": "stdin",
     "output_type": "stream",
     "text": [
      "ENTER YOUR AGE 18\n"
     ]
    },
    {
     "name": "stdout",
     "output_type": "stream",
     "text": [
      "THE PERSON IS A TEENAGER\n"
     ]
    }
   ],
   "source": [
    "age = int(input(\"ENTER YOUR AGE\"))\n",
    "\n",
    "if age <= 12:\n",
    "    print(\"THE PERSON IS A CHILD\")\n",
    "elif age >=13 and age <=19:\n",
    "    print(\"THE PERSON IS A TEENAGER\")\n",
    "else:\n",
    "     print(\"THE PERSON IS A ADULT\")"
   ]
  },
  {
   "cell_type": "code",
   "execution_count": null,
   "id": "4f7f1845-2854-4bb0-973e-c97b7bf8e461",
   "metadata": {},
   "outputs": [],
   "source": [
    "Question_3\n",
    " Write a program that takes two numbers as input from the user and prints which number is larger.\n",
    " If both numbers are equal, print \"Both numbers are equal.\""
   ]
  },
  {
   "cell_type": "code",
   "execution_count": 2,
   "id": "8c5b124f-59e7-4cfb-98bb-c6e1cbb3d7ec",
   "metadata": {},
   "outputs": [
    {
     "name": "stdin",
     "output_type": "stream",
     "text": [
      "ENTER FIRST NUMBER 10\n",
      "ENTER SECOND NUMBER 20\n"
     ]
    },
    {
     "name": "stdout",
     "output_type": "stream",
     "text": [
      "20 IS LARGER NUMBER\n"
     ]
    }
   ],
   "source": [
    "num1 = int(input(\"ENTER FIRST NUMBER\"))\n",
    "num2 = int(input(\"ENTER SECOND NUMBER\"))\n",
    "\n",
    "if num1>num2:\n",
    "    print(f\"{num1} IS LARGER NUMBER\")\n",
    "elif num2>num1:\n",
    "    print(f\"{num2} IS LARGER NUMBER\")\n",
    "else:\n",
    "    print(\"BOTH NUMBERS ARE EQUAL\")"
   ]
  },
  {
   "cell_type": "code",
   "execution_count": null,
   "id": "431bd613-f9d4-4d57-b9d7-b5e95b6418a6",
   "metadata": {},
   "outputs": [],
   "source": [
    "Question_4\n",
    " Create a program that checks if a user-entered password matches the string \"securePassword\".\n",
    " Print \"Access Granted\" if it matches, otherwise print \"Access Denied.\""
   ]
  },
  {
   "cell_type": "code",
   "execution_count": 4,
   "id": "bff699ab-0bb0-411b-abf5-c2823b1465b8",
   "metadata": {},
   "outputs": [
    {
     "name": "stdin",
     "output_type": "stream",
     "text": [
      "ENTER YOUR PASSWORD securePassword\n"
     ]
    },
    {
     "name": "stdout",
     "output_type": "stream",
     "text": [
      "ACCESS GRANTED\n"
     ]
    }
   ],
   "source": [
    "num1 = \"securePassword\"\n",
    "\n",
    "num2 = input(\"ENTER YOUR PASSWORD\")\n",
    "\n",
    "if num2 == num1 :\n",
    "    print(\"ACCESS GRANTED\")\n",
    "else:\n",
    "    print(\"ACCESS DENIED\")"
   ]
  },
  {
   "cell_type": "code",
   "execution_count": null,
   "id": "cd23e60a-b640-4de5-83cf-d8318b3120c5",
   "metadata": {},
   "outputs": [],
   "source": [
    "Question_5\n",
    " Write a program that takes a score from the user (0-100) and prints the \n",
    " corresponding grade:\n",
    " A for 90-100\n",
    " B for 80-89\n",
    " C for 70-79\n",
    " D for 60-69\n",
    " F for below 60"
   ]
  },
  {
   "cell_type": "code",
   "execution_count": 6,
   "id": "4c9b5faa-1dc7-4674-ad50-405d1997890f",
   "metadata": {},
   "outputs": [
    {
     "name": "stdin",
     "output_type": "stream",
     "text": [
      "ENTER SCORE 50\n"
     ]
    },
    {
     "name": "stdout",
     "output_type": "stream",
     "text": [
      "f\n"
     ]
    }
   ],
   "source": [
    "num1 = int(input(\"ENTER SCORE\"))\n",
    "\n",
    "if num1>90 and num1<100:\n",
    "    print(\"A\")\n",
    "elif num1>80 and num1<89:\n",
    "    print(\"B\")\n",
    "elif num1>70 and num1<79:\n",
    "    print(\"C\")\n",
    "elif num1>60 and num1<69:\n",
    "    print(\"D\")\n",
    "else:\n",
    "    print(\"f\")"
   ]
  },
  {
   "cell_type": "code",
   "execution_count": null,
   "id": "7ef30714-f7a3-4e20-9606-b83be9178e54",
   "metadata": {},
   "outputs": [],
   "source": [
    "Question_6\n",
    " Create a program that asks the user for a number and checks if it is positive, negative, or zero.\n",
    " Print the corresponding message."
   ]
  },
  {
   "cell_type": "code",
   "execution_count": 9,
   "id": "d0bc463a-baa9-4a44-9c22-e9b6fc37fdef",
   "metadata": {},
   "outputs": [
    {
     "name": "stdin",
     "output_type": "stream",
     "text": [
      "ENTER THE NUMBER 0\n"
     ]
    },
    {
     "name": "stdout",
     "output_type": "stream",
     "text": [
      "THE NUMBER IS ZERO.\n"
     ]
    }
   ],
   "source": [
    "num = int(input(\"ENTER THE NUMBER\"))\n",
    "\n",
    "if num > 0:\n",
    "    print(\"THE NUMBER IS POSITIVE.\")\n",
    "elif num < 0:\n",
    "    print(\"THE NUMBER IS NEGATIVE.\")\n",
    "else:\n",
    "    print(\"THE NUMBER IS ZERO.\")"
   ]
  },
  {
   "cell_type": "code",
   "execution_count": null,
   "id": "303ff294-0aca-4fb0-87e3-2db77dadc69b",
   "metadata": {},
   "outputs": [],
   "source": [
    "Question_7\n",
    " Write a program that takes three numbers from the user and determines the \n",
    " largest of the three. Print the largest number."
   ]
  },
  {
   "cell_type": "code",
   "execution_count": 13,
   "id": "c8d3ed61-7108-41e4-9831-732cd8ddc463",
   "metadata": {},
   "outputs": [
    {
     "name": "stdin",
     "output_type": "stream",
     "text": [
      "ENTER FIRST NUMBER 11\n",
      "ENTER SECOND NUMBER 12\n",
      "ENTER THIRD NUMBER 13\n"
     ]
    },
    {
     "name": "stdout",
     "output_type": "stream",
     "text": [
      "THE LARGEST NUMBER IS: 13\n"
     ]
    }
   ],
   "source": [
    "num1 = int(input(\"ENTER FIRST NUMBER\"))\n",
    "num2 = int(input(\"ENTER SECOND NUMBER\"))\n",
    "num3 = int(input(\"ENTER THIRD NUMBER\"))\n",
    "\n",
    "if num1 >= num2 and num1 >= num3:\n",
    "    largest = num1\n",
    "elif num2 >= num1 and num2 >= num3:\n",
    "    largest = num2\n",
    "else:\n",
    "    largest = num3\n",
    "\n",
    "print(f\"THE LARGEST NUMBER IS: {largest}\")\n",
    "\n"
   ]
  },
  {
   "cell_type": "code",
   "execution_count": null,
   "id": "4263720e-71b0-46e8-8b5d-e85ecde9d225",
   "metadata": {},
   "outputs": [],
   "source": [
    "Question_8\n",
    " Create a program that checks if a user-entered character is a vowel (a, e, i, o, u) or a consonant.\n",
    " Print the corresponding message."
   ]
  },
  {
   "cell_type": "code",
   "execution_count": 19,
   "id": "57c86e86-ab19-4bc0-ad14-b17a0b9ce41c",
   "metadata": {},
   "outputs": [
    {
     "name": "stdin",
     "output_type": "stream",
     "text": [
      "ENTER THE CHARECTER:  a\n"
     ]
    },
    {
     "name": "stdout",
     "output_type": "stream",
     "text": [
      "THE CHARECTER IS A VOWEL.\n"
     ]
    }
   ],
   "source": [
    "char = input(\"ENTER THE CHARECTER: \").lower()\n",
    "\n",
    "if char in ('a', 'e', 'i', 'o', 'u'):\n",
    "    print(\"THE CHARECTER IS A VOWEL.\")\n",
    "elif char.isalpha():\n",
    "    print(\"THE CHARECTER IS A CONSONANT.\")\n",
    "else:\n",
    "    print(\"INVALID INPUT , ENTER THE CHARECTER.\")"
   ]
  },
  {
   "cell_type": "code",
   "execution_count": null,
   "id": "995a8c7b-05e9-415d-969d-363b1ea8624b",
   "metadata": {},
   "outputs": [],
   "source": [
    "Question_9\n",
    " Write a program that checks if a given year is a leap year.\n",
    " A year is a leap year if it is divisible by 4, except for years that are divisible by 100 but not divisible by 400."
   ]
  },
  {
   "cell_type": "code",
   "execution_count": 20,
   "id": "b7686786-8bf9-499c-9c38-e363f0c9c98a",
   "metadata": {},
   "outputs": [
    {
     "name": "stdin",
     "output_type": "stream",
     "text": [
      "ENTER THE YEAR:  2004\n"
     ]
    },
    {
     "name": "stdout",
     "output_type": "stream",
     "text": [
      "2004 IS THE LEAP YEAR.\n"
     ]
    }
   ],
   "source": [
    "year = int(input(\"ENTER THE YEAR: \"))\n",
    "\n",
    "if (year % 4 == 0 and year % 100 != 0) or (year % 400 == 0):\n",
    "    print(f\"{year} IS THE LEAP YEAR.\")\n",
    "else:\n",
    "    print(f\"{year} IS NOT A LEAP YEAR.\")"
   ]
  },
  {
   "cell_type": "code",
   "execution_count": null,
   "id": "adbf6ebb-58ab-48fb-8cc7-bb9bd35eb9ac",
   "metadata": {},
   "outputs": [],
   "source": [
    "Question_10\n",
    " Create a program that prompts the user for a temperature in Celsius and converts it to Fahrenheit.\n",
    " If the converted temperature is greater than 100°F, print \"It's boiling!\" Otherwise, print \"It's not boiling yet.\""
   ]
  },
  {
   "cell_type": "code",
   "execution_count": 22,
   "id": "aef54706-aecc-4b11-a6b8-ab562baba433",
   "metadata": {},
   "outputs": [
    {
     "name": "stdin",
     "output_type": "stream",
     "text": [
      "ENTER THE TEMPERATURE IN CELSIUS:  34\n"
     ]
    },
    {
     "name": "stdout",
     "output_type": "stream",
     "text": [
      "THE EQUIVALENT TEMPERATURE IN FAHRENHEIT IS: 93.20°F\n",
      "It's not boiling yet.\n"
     ]
    }
   ],
   "source": [
    "celsius = float(input(\"ENTER THE TEMPERATURE IN CELSIUS: \"))\n",
    "\n",
    "fahrenheit = (celsius * 9/5) + 32\n",
    "\n",
    "print(f\"THE EQUIVALENT TEMPERATURE IN FAHRENHEIT IS: {fahrenheit:.2f}°F\")\n",
    "\n",
    "if fahrenheit > 100:\n",
    "    print(\"It's boiling!\")\n",
    "else:\n",
    "    print(\"It's not boiling yet.\")\n"
   ]
  },
  {
   "cell_type": "code",
   "execution_count": null,
   "id": "0d1bc6c9-6c16-4156-8562-895291041196",
   "metadata": {},
   "outputs": [],
   "source": []
  }
 ],
 "metadata": {
  "kernelspec": {
   "display_name": "Python 3 (ipykernel)",
   "language": "python",
   "name": "python3"
  },
  "language_info": {
   "codemirror_mode": {
    "name": "ipython",
    "version": 3
   },
   "file_extension": ".py",
   "mimetype": "text/x-python",
   "name": "python",
   "nbconvert_exporter": "python",
   "pygments_lexer": "ipython3",
   "version": "3.12.7"
  }
 },
 "nbformat": 4,
 "nbformat_minor": 5
}
