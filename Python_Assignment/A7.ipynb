{
 "cells": [
  {
   "cell_type": "markdown",
   "id": "61ee275b-c490-4861-9343-28307ae99b73",
   "metadata": {},
   "source": [
    " 1. Default Arguments"
   ]
  },
  {
   "cell_type": "markdown",
   "id": "ae4fa9f8-cf91-4d3d-958b-088941610cd0",
   "metadata": {},
   "source": [
    " Q_1. What will be the output of the following function call, and why?"
   ]
  },
  {
   "cell_type": "code",
   "execution_count": 1,
   "id": "60980bac-1bf1-4b52-afd2-0724b99d2c86",
   "metadata": {},
   "outputs": [],
   "source": [
    "def func(a, b=6, c=8):\n",
    "    print(a, b, c)"
   ]
  },
  {
   "cell_type": "code",
   "execution_count": 2,
   "id": "b0280c57-9a38-4a22-ba78-5034faa82551",
   "metadata": {},
   "outputs": [
    {
     "name": "stdout",
     "output_type": "stream",
     "text": [
      "1 2 8\n"
     ]
    }
   ],
   "source": [
    "func(1, 2)"
   ]
  },
  {
   "cell_type": "markdown",
   "id": "9beda1e2-e421-4742-8404-f0a72ce4a029",
   "metadata": {},
   "source": [
    "1 2 8 because the function uses the provided values for a and b, and the default value for c."
   ]
  },
  {
   "cell_type": "markdown",
   "id": "1c4eea06-5dbb-495b-b0c3-0ebd1744a85f",
   "metadata": {},
   "source": [
    " 2. Keyword Arguments with Defaults"
   ]
  },
  {
   "cell_type": "markdown",
   "id": "809c4c44-949c-44d1-ba3c-49d377e49207",
   "metadata": {},
   "source": [
    " 3. Positional Variable-Length Arguments"
   ]
  },
  {
   "cell_type": "markdown",
   "id": "f24ed87b-bf99-4458-9218-caad67aa4a75",
   "metadata": {},
   "source": [
    " Q_2. Predict the output and explain:"
   ]
  },
  {
   "cell_type": "code",
   "execution_count": 3,
   "id": "9f0b8610-0387-467f-8d7e-4f571e638868",
   "metadata": {},
   "outputs": [],
   "source": [
    "def func(a, b, c=5):\n",
    "    print(a, b, c)"
   ]
  },
  {
   "cell_type": "code",
   "execution_count": 4,
   "id": "da6bffa6-406a-4069-8c36-adbbbb60bc6b",
   "metadata": {},
   "outputs": [
    {
     "name": "stdout",
     "output_type": "stream",
     "text": [
      "1 2 3\n"
     ]
    }
   ],
   "source": [
    "func(1, c=3, b=2)"
   ]
  },
  {
   "cell_type": "markdown",
   "id": "b20549f3-aa50-48b7-9cb1-bcc1e82a4140",
   "metadata": {},
   "source": [
    "a = 1 first positional argument\n",
    "\n",
    "b = 2 provided as keyword argument\n",
    "\n",
    "c = 3 provided as keyword argument, overrides default 5\n",
    "\n",
    "because all the parameters are fully specified, mixing positional and keyword arguments."
   ]
  },
  {
   "cell_type": "markdown",
   "id": "da5f40c8-18b4-4ee2-9c72-9d068fc6dc14",
   "metadata": {},
   "source": [
    " Q_3. Explain the behavior and output:"
   ]
  },
  {
   "cell_type": "code",
   "execution_count": 5,
   "id": "ca234b02-67a8-4de4-b974-56834ce3b95e",
   "metadata": {},
   "outputs": [],
   "source": [
    "def func(a, *pargs):\n",
    "    print(a, pargs)"
   ]
  },
  {
   "cell_type": "code",
   "execution_count": 6,
   "id": "05f86647-c64f-46bc-ba42-e612fa101318",
   "metadata": {},
   "outputs": [
    {
     "name": "stdout",
     "output_type": "stream",
     "text": [
      "1 (2, 3)\n"
     ]
    }
   ],
   "source": [
    "func(1, 2, 3)"
   ]
  },
  {
   "cell_type": "markdown",
   "id": "b0adb513-39ba-45b7-ae9e-485e290ae0f5",
   "metadata": {},
   "source": [
    "a = 1 (the first argument)\n",
    "\n",
    "*pargs = (2, 3) → the rest of the arguments are collected into a tuple called pargs"
   ]
  },
  {
   "cell_type": "markdown",
   "id": "3d57dd22-f963-4243-995a-f46ac62a576c",
   "metadata": {},
   "source": [
    " 4. Keyword Variable-Length Arguments"
   ]
  },
  {
   "cell_type": "markdown",
   "id": "4786bc05-4da0-4f5e-8c23-c4361f9331ec",
   "metadata": {},
   "source": [
    " Q_4. What will this code print, and why?"
   ]
  },
  {
   "cell_type": "code",
   "execution_count": 7,
   "id": "63db5503-65d6-482d-b8b1-21f762c1c976",
   "metadata": {},
   "outputs": [],
   "source": [
    "def func(a, **kargs):\n",
    "    print(a, kargs)"
   ]
  },
  {
   "cell_type": "code",
   "execution_count": 8,
   "id": "1e28c369-e70c-42e4-a094-9e9a73076288",
   "metadata": {},
   "outputs": [
    {
     "name": "stdout",
     "output_type": "stream",
     "text": [
      "1 {'c': 3, 'b': 2}\n"
     ]
    }
   ],
   "source": [
    "func(a=1, c=3, b=2)"
   ]
  },
  {
   "cell_type": "markdown",
   "id": "cac64821-35cc-4bf0-af31-e9cf48eefd84",
   "metadata": {},
   "source": [
    "a = 1 (explicitly passed as a keyword argument)\n",
    "\n",
    "**kargs collects all other keyword arguments into a dictionary → kargs = {'c': 3, 'b': 2}\n",
    "\n",
    "it prints 1 and the dictionary {'c': 3, 'b': 2} because **kargs gathers all extra keyword arguments"
   ]
  },
  {
   "cell_type": "markdown",
   "id": "9a9c3068-ca39-4a6b-8cb7-58709e6e7445",
   "metadata": {},
   "source": [
    " 5. Mixing Positional and Unpacked Tuple Arguments"
   ]
  },
  {
   "cell_type": "markdown",
   "id": "c92eeb2c-3120-4318-ab91-f1c7e34b9278",
   "metadata": {},
   "source": [
    " Q_5. Explain the result of this call:"
   ]
  },
  {
   "cell_type": "code",
   "execution_count": 9,
   "id": "b57bc2d4-859a-4714-9425-0376952720c2",
   "metadata": {},
   "outputs": [],
   "source": [
    "def func(a, b, c=8, d=5):\n",
    "    print(a, b, c, d)"
   ]
  },
  {
   "cell_type": "code",
   "execution_count": 10,
   "id": "320af969-5939-423f-b15b-90c7ac9a430e",
   "metadata": {},
   "outputs": [
    {
     "name": "stdout",
     "output_type": "stream",
     "text": [
      "1 5 6 5\n"
     ]
    }
   ],
   "source": [
    "func(1, *(5, 6))"
   ]
  },
  {
   "cell_type": "markdown",
   "id": "879c5c2f-038c-4ab7-95b9-5fb33131e1bc",
   "metadata": {},
   "source": [
    "1 → goes to a\n",
    "\n",
    "*(5, 6) → unpacks the tuple, so 5 goes to b and 6 goes to c\n",
    "\n",
    "d → uses the default value 5\n",
    "\n",
    "it prints 1 5 6 5 because the tuple is unpacked into positional arguments, and the last parameter (d) takes its default."
   ]
  },
  {
   "cell_type": "markdown",
   "id": "c5ccc9d8-1317-41c9-b2e6-f07b0f7d43d1",
   "metadata": {},
   "source": [
    " 6. Mutable vs Immutable Behavior"
   ]
  },
  {
   "cell_type": "markdown",
   "id": "4abb586a-39ec-4df2-a21c-e736747a171c",
   "metadata": {},
   "source": [
    " Q_6. Predict the output of the variables l, m, and n after this code runs:"
   ]
  },
  {
   "cell_type": "code",
   "execution_count": 11,
   "id": "d8c81fb4-c895-4e8b-9a94-62b4fbe2d0ea",
   "metadata": {},
   "outputs": [],
   "source": [
    "def func(a, b, c):\n",
    "    a = 2\n",
    "    b[0] = 'x'\n",
    "    c['a'] = 'y'\n",
    "l = 1\n",
    "m = [1]\n",
    "n = {'a': 0}"
   ]
  },
  {
   "cell_type": "code",
   "execution_count": 12,
   "id": "db80610b-7ff0-456a-a52b-836e95c52a74",
   "metadata": {},
   "outputs": [],
   "source": [
    "func(l, m, n)"
   ]
  },
  {
   "cell_type": "code",
   "execution_count": 13,
   "id": "df20da94-89b0-4513-a8e4-0d9a8c10e5c1",
   "metadata": {},
   "outputs": [
    {
     "name": "stdout",
     "output_type": "stream",
     "text": [
      "1 ['x'] {'a': 'y'}\n"
     ]
    }
   ],
   "source": [
    "print(l, m, n)"
   ]
  },
  {
   "cell_type": "markdown",
   "id": "7ea02d22-bd73-4d2f-bde9-2d93bf9ee85b",
   "metadata": {},
   "source": [
    " Bonus Question\n",
    "\n",
    "- one required argument,\n",
    "- a variable number of positional arguments,\n",
    "- a variable number of keyword arguments,\n",
    "\n",
    "Then print all three components. \n",
    "Call it with:\n",
    "my_func(10, 20, 30, x=5, y=15)"
   ]
  },
  {
   "cell_type": "code",
   "execution_count": 14,
   "id": "77d5347b-5d01-49dc-8c62-1f377d6917e7",
   "metadata": {},
   "outputs": [],
   "source": [
    "def my_func(req_arg, *args, **kwargs):\n",
    "    print(\"Required argument:\", req_arg)\n",
    "    print(\"Positional arguments:\", args)\n",
    "    print(\"Keyword arguments:\", kwargs)"
   ]
  },
  {
   "cell_type": "code",
   "execution_count": 15,
   "id": "aaecc6ae-da36-4f03-aaa0-d62de9ec7ea9",
   "metadata": {},
   "outputs": [
    {
     "name": "stdout",
     "output_type": "stream",
     "text": [
      "Required argument: 10\n",
      "Positional arguments: (20, 30)\n",
      "Keyword arguments: {'x': 5, 'y': 15}\n"
     ]
    }
   ],
   "source": [
    "my_func(10, 20, 30, x=5, y=15)"
   ]
  },
  {
   "cell_type": "code",
   "execution_count": null,
   "id": "8465f88c-31b1-417a-8119-5d6239867ab7",
   "metadata": {},
   "outputs": [],
   "source": []
  }
 ],
 "metadata": {
  "kernelspec": {
   "display_name": "Python 3 (ipykernel)",
   "language": "python",
   "name": "python3"
  },
  "language_info": {
   "codemirror_mode": {
    "name": "ipython",
    "version": 3
   },
   "file_extension": ".py",
   "mimetype": "text/x-python",
   "name": "python",
   "nbconvert_exporter": "python",
   "pygments_lexer": "ipython3",
   "version": "3.12.7"
  }
 },
 "nbformat": 4,
 "nbformat_minor": 5
}
