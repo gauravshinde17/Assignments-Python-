{
 "cells": [
  {
   "cell_type": "code",
   "execution_count": null,
   "id": "50bdaf19-a440-4f1f-ab95-d7514b754741",
   "metadata": {},
   "outputs": [],
   "source": [
    "Question_1\n",
    " Create a variable x with the value 15.\n",
    " Perform floored division by 4 and print the result. \n",
    " What is the difference between floored division and normal division?"
   ]
  },
  {
   "cell_type": "code",
   "execution_count": 1,
   "id": "86c0c8fa-9b68-4bfe-b938-ec295ab0418d",
   "metadata": {},
   "outputs": [
    {
     "name": "stdout",
     "output_type": "stream",
     "text": [
      "3\n"
     ]
    }
   ],
   "source": [
    "x = 15\n",
    "y = 4\n",
    "\n",
    "result = x // y\n",
    "print(result)"
   ]
  },
  {
   "cell_type": "code",
   "execution_count": null,
   "id": "343ee508-39a7-4640-8b3a-50d07d2cae9e",
   "metadata": {},
   "outputs": [],
   "source": [
    "Question_2\n",
    " Write a program to calculate 8 ** 2 and  16 ** 0.5 . Print both results and  describe what each represents."
   ]
  },
  {
   "cell_type": "code",
   "execution_count": 3,
   "id": "f9cffa4c-d832-459b-b105-5f583e859351",
   "metadata": {},
   "outputs": [
    {
     "name": "stdout",
     "output_type": "stream",
     "text": [
      "64\n",
      "4.0\n"
     ]
    }
   ],
   "source": [
    "print(8**2)\n",
    "print(16**0.5)"
   ]
  },
  {
   "cell_type": "code",
   "execution_count": null,
   "id": "e1552ad4-a10f-4ed7-8b1b-715d67b708ee",
   "metadata": {},
   "outputs": [],
   "source": [
    "Question_3\n",
    " Use arithmetic operators to solve the following expression: 20 - 5 * 3 + 8 / 4 . \n",
    " Use parentheses to make sure the addition happens before multiplication. Print the output."
   ]
  },
  {
   "cell_type": "code",
   "execution_count": 4,
   "id": "1a34c253-b964-470b-8a21-a4745774f3e5",
   "metadata": {},
   "outputs": [
    {
     "name": "stdout",
     "output_type": "stream",
     "text": [
      "6.25\n"
     ]
    }
   ],
   "source": [
    "result = 20 - (5 * (3 + 8) / 4)\n",
    "print(result)\n"
   ]
  },
  {
   "cell_type": "code",
   "execution_count": null,
   "id": "d27f3ea4-eda7-4bca-85bb-05a3d684d5bb",
   "metadata": {},
   "outputs": [],
   "source": [
    "Question_4\n",
    " Assign the value 7 to a variable num . Convert it to a float and print the result.\n",
    " What is the difference between  7 and 7.0"
   ]
  },
  {
   "cell_type": "code",
   "execution_count": 6,
   "id": "6d941379-1fc7-48b5-8b5c-3d1f34b0ffbd",
   "metadata": {},
   "outputs": [
    {
     "name": "stdout",
     "output_type": "stream",
     "text": [
      "7\n",
      "7.0\n"
     ]
    }
   ],
   "source": [
    "num = 7\n",
    "print(num)\n",
    "print(float(num))\n",
    "\n",
    "#Difference\n",
    "# 7 is am integer and 7.0 is float"
   ]
  },
  {
   "cell_type": "code",
   "execution_count": null,
   "id": "dc29cb63-a11e-478a-8c33-3b5d29bcc945",
   "metadata": {},
   "outputs": [],
   "source": [
    "Question_5\n",
    " Use a comparison operator to check if 100 is greater than 50.\n",
    " Print the result and indicate what type of value this is."
   ]
  },
  {
   "cell_type": "code",
   "execution_count": 10,
   "id": "62d15457-7064-4b7c-9d9a-e1a6de011121",
   "metadata": {},
   "outputs": [
    {
     "name": "stdout",
     "output_type": "stream",
     "text": [
      "True\n",
      "<class 'bool'>\n"
     ]
    }
   ],
   "source": [
    "A = 100\n",
    "B = 50\n",
    "result = A>B\n",
    "print(result)\n",
    "print(type(result))\n"
   ]
  },
  {
   "cell_type": "code",
   "execution_count": null,
   "id": "70c58d60-ea15-43e5-bcc7-5bc783c8e8d9",
   "metadata": {},
   "outputs": [],
   "source": [
    "Question_6\n",
    " Assign True to a variable is_sunny and False to is_weekend . \n",
    " Use logical operators to check if it is sunny and the weekend ( is_sunny and is_weekend ). \n",
    " Print the result"
   ]
  },
  {
   "cell_type": "code",
   "execution_count": 12,
   "id": "14c1065a-736c-4c98-82ee-2086ef77d868",
   "metadata": {},
   "outputs": [
    {
     "name": "stdout",
     "output_type": "stream",
     "text": [
      "False\n"
     ]
    }
   ],
   "source": [
    "is_sunny = True\n",
    "is_weekend = False \n",
    "\n",
    "result = is_sunny and is_weekend\n",
    "\n",
    "print(result)"
   ]
  },
  {
   "cell_type": "code",
   "execution_count": null,
   "id": "7b117ce0-7d04-47e1-b54b-787b2c5d3b24",
   "metadata": {},
   "outputs": [],
   "source": [
    "Question_7\n",
    " Create a variable password and set it to \"my_password123\" . \n",
    " Ask the user to input a password and print True if the input matches the value of password , otherwise print False ."
   ]
  },
  {
   "cell_type": "code",
   "execution_count": 17,
   "id": "c1c62016-5b2b-4110-8992-2b195c6e039e",
   "metadata": {},
   "outputs": [
    {
     "name": "stdin",
     "output_type": "stream",
     "text": [
      "ENTER YOUR PASSWORD 12\n"
     ]
    },
    {
     "name": "stdout",
     "output_type": "stream",
     "text": [
      "False\n"
     ]
    }
   ],
   "source": [
    "    password = \"my_password123\"\n",
    "    \n",
    "    P = input(\"ENTER YOUR PASSWORD\")\n",
    "    \n",
    "    if P == password:\n",
    "        print(True)\n",
    "    else:    \n",
    "        print(False)"
   ]
  },
  {
   "cell_type": "code",
   "execution_count": null,
   "id": "bf1f548b-809d-4e67-b163-3721de99b414",
   "metadata": {},
   "outputs": [],
   "source": [
    "Question_8\n",
    "Assign the value using the 50 to a variable marks .\n",
    "Increment the value of marks by 5 using the += operator, then print the new value."
   ]
  },
  {
   "cell_type": "code",
   "execution_count": 18,
   "id": "d9ef5f06-c1b7-45c0-90ee-bcc34723715e",
   "metadata": {},
   "outputs": [
    {
     "name": "stdout",
     "output_type": "stream",
     "text": [
      "55\n"
     ]
    }
   ],
   "source": [
    "marks = 50\n",
    "\n",
    "marks += 5\n",
    "\n",
    "print(marks)"
   ]
  },
  {
   "cell_type": "code",
   "execution_count": null,
   "id": "a696e904-2662-4b17-b68b-27bd50712ea0",
   "metadata": {},
   "outputs": [],
   "source": [
    "Question_9\n",
    " Write a program to check if the value of a = 0 and b = 10 satisfies a or b .\n",
    " Print the output and explain why it gives that result."
   ]
  },
  {
   "cell_type": "code",
   "execution_count": 22,
   "id": "3eebb518-928c-4256-ab7d-8d17385f73bb",
   "metadata": {},
   "outputs": [
    {
     "name": "stdout",
     "output_type": "stream",
     "text": [
      "Atleast one of the given values are true  0 or 10\n"
     ]
    }
   ],
   "source": [
    "a = 0 \n",
    "b = 10\n",
    "\n",
    "if a or b:\n",
    "    print(\"Atleast one of the given values are true \",a ,\"or\", b)\n",
    "else:\n",
    "    print(\"Neither a nor b is true\")\n",
    "\n"
   ]
  },
  {
   "cell_type": "code",
   "execution_count": null,
   "id": "5f89ab86-0dde-4532-9974-e5feed1a02ee",
   "metadata": {},
   "outputs": [],
   "source": [
    "Question_10\n",
    " Use not to negate the value of  False and print the result. \n",
    " Explain what the not operator does in Python."
   ]
  },
  {
   "cell_type": "code",
   "execution_count": 23,
   "id": "8f69190b-99c9-41a7-ae0a-a8bd9ba10fb7",
   "metadata": {},
   "outputs": [
    {
     "name": "stdout",
     "output_type": "stream",
     "text": [
      "True\n"
     ]
    }
   ],
   "source": [
    "result = not False\n",
    "\n",
    "print(result)"
   ]
  },
  {
   "cell_type": "code",
   "execution_count": null,
   "id": "dbe5928f-510f-4567-9324-39414a0811fa",
   "metadata": {},
   "outputs": [],
   "source": []
  }
 ],
 "metadata": {
  "kernelspec": {
   "display_name": "Python 3 (ipykernel)",
   "language": "python",
   "name": "python3"
  },
  "language_info": {
   "codemirror_mode": {
    "name": "ipython",
    "version": 3
   },
   "file_extension": ".py",
   "mimetype": "text/x-python",
   "name": "python",
   "nbconvert_exporter": "python",
   "pygments_lexer": "ipython3",
   "version": "3.12.7"
  }
 },
 "nbformat": 4,
 "nbformat_minor": 5
}
