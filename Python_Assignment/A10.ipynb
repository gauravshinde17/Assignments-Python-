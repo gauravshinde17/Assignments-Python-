{
 "cells": [
  {
   "cell_type": "markdown",
   "id": "62f513cf-95ca-4615-8ff5-da97778a49b5",
   "metadata": {},
   "source": [
    " 1. Seconds in an Hour"
   ]
  },
  {
   "cell_type": "markdown",
   "id": "eb4fbe21-a4c5-4ca6-accd-529cf38a695a",
   "metadata": {},
   "source": [
    " Use Python to calculate how many seconds are in one hour. Multiply the number of seconds in a minute by the number of minutes in an hour."
   ]
  },
  {
   "cell_type": "code",
   "execution_count": 1,
   "id": "c9d88035-7423-46d3-a733-ee7ca5039a4c",
   "metadata": {},
   "outputs": [
    {
     "name": "stdout",
     "output_type": "stream",
     "text": [
      "Seconds in one hour: 3600\n"
     ]
    }
   ],
   "source": [
    "seconds_in_minute = 60\n",
    "minutes_in_hour = 60\n",
    "\n",
    "seconds_in_hour = seconds_in_minute * minutes_in_hour\n",
    "\n",
    "print(\"Seconds in one hour:\",seconds_in_hour)"
   ]
  },
  {
   "cell_type": "markdown",
   "id": "e1f3e30c-f460-446b-a12f-3b58c64793ea",
   "metadata": {},
   "source": [
    " 2. Store the Result in a Variable"
   ]
  },
  {
   "cell_type": "markdown",
   "id": "2dc51dbd-06fa-42c8-af63-f90b7aa06a72",
   "metadata": {},
   "source": [
    " Assign the result from Question 1 to a variable called seconds_per_hour and print it."
   ]
  },
  {
   "cell_type": "code",
   "execution_count": 2,
   "id": "77023809-c0a3-450c-acc2-992d1c588c56",
   "metadata": {},
   "outputs": [
    {
     "name": "stdout",
     "output_type": "stream",
     "text": [
      "3600\n"
     ]
    }
   ],
   "source": [
    "seconds_per_hour = seconds_in_minute * minutes_in_hour\n",
    "print(seconds_per_hour)"
   ]
  },
  {
   "cell_type": "markdown",
   "id": "8f7d8c58-07ad-4cf4-8d42-8f89a8917040",
   "metadata": {},
   "source": [
    " 3. Calculate Seconds in a Day"
   ]
  },
  {
   "cell_type": "markdown",
   "id": "e6322ba9-6c43-4c1f-aa4c-f9ce773694f0",
   "metadata": {},
   "source": [
    " Estimate how many seconds are in a day. Use the variable seconds_per_hour and any other variables you may need."
   ]
  },
  {
   "cell_type": "code",
   "execution_count": 3,
   "id": "8fe3db1e-3baf-4b7e-ba3c-f8c297dc5608",
   "metadata": {},
   "outputs": [
    {
     "name": "stdout",
     "output_type": "stream",
     "text": [
      "Seconds in one day: 86400\n"
     ]
    }
   ],
   "source": [
    "seconds_per_hour = 3600\n",
    "hours_per_day = 24\n",
    "print(\"Seconds in one day:\", seconds_per_hour * hours_per_day)"
   ]
  },
  {
   "cell_type": "markdown",
   "id": "3838ed57-278c-4191-b2dc-b26752b12ea7",
   "metadata": {},
   "source": [
    " 4. Save Seconds Per Day in a Variable"
   ]
  },
  {
   "cell_type": "markdown",
   "id": "84cbf86c-2ecb-4ed2-9165-a92d520be445",
   "metadata": {},
   "source": [
    " Recalculate the number of seconds in a day and assign the result to a variable called seconds_per_day. Print the value."
   ]
  },
  {
   "cell_type": "code",
   "execution_count": 4,
   "id": "4f987c6f-ce41-45cc-a239-454c47bc4a6e",
   "metadata": {},
   "outputs": [
    {
     "name": "stdout",
     "output_type": "stream",
     "text": [
      "86400\n"
     ]
    }
   ],
   "source": [
    "seconds_per_day = seconds_per_hour * hours_per_day\n",
    "print(seconds_per_day)"
   ]
  },
  {
   "cell_type": "markdown",
   "id": "354bf514-d189-463d-ba6b-5e792507d837",
   "metadata": {},
   "source": [
    " 5. Floating-Point Division"
   ]
  },
  {
   "cell_type": "markdown",
   "id": "a6dfae56-f10c-413f-94f9-61ff140d9e6f",
   "metadata": {},
   "source": [
    " Divide seconds_per_day by seconds_per_hour using floating-point division (/). What result do you get?"
   ]
  },
  {
   "cell_type": "code",
   "execution_count": 5,
   "id": "6d5b7794-3fc2-495c-9d0b-438d00191f35",
   "metadata": {},
   "outputs": [
    {
     "name": "stdout",
     "output_type": "stream",
     "text": [
      "24.0\n"
     ]
    }
   ],
   "source": [
    "result = seconds_per_day / seconds_per_hour\n",
    "print(result)"
   ]
  },
  {
   "cell_type": "markdown",
   "id": "5dbd291b-6155-44cd-a50e-4fe1aafb3418",
   "metadata": {},
   "source": [
    " 6. Integer Division"
   ]
  },
  {
   "cell_type": "markdown",
   "id": "7f4a82fb-14e9-426b-9582-27f694744635",
   "metadata": {},
   "source": [
    " Now divide seconds_per_day by seconds_per_hour using integer division (//). Does this value match the previous result aside from the decimal point?"
   ]
  },
  {
   "cell_type": "code",
   "execution_count": 6,
   "id": "d79eded7-78f3-4ddc-ae62-716b949c5b2b",
   "metadata": {},
   "outputs": [
    {
     "name": "stdout",
     "output_type": "stream",
     "text": [
      "24\n"
     ]
    }
   ],
   "source": [
    "result = seconds_per_day // seconds_per_hour\n",
    "print(result)"
   ]
  },
  {
   "cell_type": "markdown",
   "id": "c4ddc64b-9093-42f2-903e-3321ed49c59e",
   "metadata": {},
   "source": [
    " 7. Prime Number Generator"
   ]
  },
  {
   "cell_type": "markdown",
   "id": "c4a61c16-8565-4d4d-86e6-f2ab1f64369e",
   "metadata": {},
   "source": [
    " Write a generator function genPrimes() that yields an infinite sequence of prime numbers starting from 2. Use a loop to print the first 5 prime numbers generated by genPrimes()."
   ]
  },
  {
   "cell_type": "code",
   "execution_count": 7,
   "id": "8a3e082f-01a0-4a49-8188-f887bb3f41c8",
   "metadata": {},
   "outputs": [
    {
     "name": "stdout",
     "output_type": "stream",
     "text": [
      "2\n",
      "3\n",
      "5\n",
      "7\n",
      "11\n"
     ]
    }
   ],
   "source": [
    "def genPrimes():\n",
    "    primes = []  \n",
    "    num = 2       \n",
    "    while True:\n",
    "        for i in primes:\n",
    "            if num % i == 0:\n",
    "                break\n",
    "        else:\n",
    "            primes.append(num)\n",
    "            yield num\n",
    "        num += 1\n",
    "        \n",
    "prime_generator = genPrimes()\n",
    "for i in range(5):\n",
    "    print(next(prime_generator))"
   ]
  }
 ],
 "metadata": {
  "kernelspec": {
   "display_name": "Python 3 (ipykernel)",
   "language": "python",
   "name": "python3"
  },
  "language_info": {
   "codemirror_mode": {
    "name": "ipython",
    "version": 3
   },
   "file_extension": ".py",
   "mimetype": "text/x-python",
   "name": "python",
   "nbconvert_exporter": "python",
   "pygments_lexer": "ipython3",
   "version": "3.12.7"
  }
 },
 "nbformat": 4,
 "nbformat_minor": 5
}
