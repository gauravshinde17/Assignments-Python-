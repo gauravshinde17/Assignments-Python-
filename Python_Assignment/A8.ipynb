{
 "cells": [
  {
   "cell_type": "markdown",
   "id": "2002ce20-1683-4056-abf5-8b89c1fbbcc4",
   "metadata": {},
   "source": [
    " Write a function that checks a number against 7 and prints:\n",
    "- 'too low' if less than 7,\n",
    "- 'just right' if equal to 7,\n",
    "- 'too high' if greater than 7.\n",
    "\n",
    "Call the function with the values 7, 5, and 15."
   ]
  },
  {
   "cell_type": "code",
   "execution_count": 1,
   "id": "1b92e180-b6e6-48e6-b322-63c226563803",
   "metadata": {},
   "outputs": [],
   "source": [
    "def check_num(n):\n",
    "    if n < 7:\n",
    "        print(\"Too Low\")\n",
    "    elif n > 7:\n",
    "        print(\"Too High\")\n",
    "    else:\n",
    "        print(\"Just Right\")"
   ]
  },
  {
   "cell_type": "code",
   "execution_count": 2,
   "id": "08b66254-b605-4ec7-8007-9783ec77f898",
   "metadata": {},
   "outputs": [
    {
     "name": "stdout",
     "output_type": "stream",
     "text": [
      "Too Low\n"
     ]
    }
   ],
   "source": [
    "check_num(5)"
   ]
  },
  {
   "cell_type": "code",
   "execution_count": 3,
   "id": "69d4ec92-4095-4843-a4ce-8184efc940a0",
   "metadata": {},
   "outputs": [
    {
     "name": "stdout",
     "output_type": "stream",
     "text": [
      "Just Right\n"
     ]
    }
   ],
   "source": [
    "check_num(7)"
   ]
  },
  {
   "cell_type": "code",
   "execution_count": 4,
   "id": "dc4c21e4-1e7f-4ec2-9f46-d3587e472da5",
   "metadata": {},
   "outputs": [
    {
     "name": "stdout",
     "output_type": "stream",
     "text": [
      "Too High\n"
     ]
    }
   ],
   "source": [
    "check_num(12)"
   ]
  },
  {
   "cell_type": "markdown",
   "id": "2712cd43-8c64-4822-8a37-b76956cd04a6",
   "metadata": {},
   "source": [
    " 2. While Loop Comparison"
   ]
  },
  {
   "cell_type": "markdown",
   "id": "ba06ce3a-85f2-473f-9e0e-70dbeae03d7e",
   "metadata": {},
   "source": [
    "Assign:\n",
    "\n",
    "guess_me = 7\n",
    "\n",
    "start = 1\n",
    "\n",
    "Write a while True: loop that compares start with guess_me:\n",
    "- Print 'too low' if start < guess_me\n",
    "- Print 'found it' and break if equal\n",
    "- Print 'too high' and break if greater\n",
    "\n",
    "Increment start at the end of each loop cycle."
   ]
  },
  {
   "cell_type": "code",
   "execution_count": 5,
   "id": "57918122-162a-425e-a7bc-e6203fd452b5",
   "metadata": {},
   "outputs": [
    {
     "name": "stdout",
     "output_type": "stream",
     "text": [
      "Too Low\n",
      "Too Low\n",
      "Too Low\n",
      "Too Low\n",
      "Too Low\n",
      "Too Low\n",
      "Found It\n"
     ]
    }
   ],
   "source": [
    "guess_me = 7\n",
    "start = 1\n",
    "while True:\n",
    "    if start < guess_me:\n",
    "        print(\"Too Low\")\n",
    "    elif start == guess_me:\n",
    "        print(\"Found It\")\n",
    "        break\n",
    "    else:\n",
    "        print(\"Too High\")\n",
    "        break\n",
    "    start = start + 1"
   ]
  },
  {
   "cell_type": "markdown",
   "id": "c556418d-011f-443b-acfe-dd2669923cff",
   "metadata": {},
   "source": [
    " 3. Loop Through a List"
   ]
  },
  {
   "cell_type": "markdown",
   "id": "79159aef-2220-4ed0-951a-331b2232d770",
   "metadata": {},
   "source": [
    " Use a for loop to print each element in this list:\n",
    "[3, 2, 1, 0]"
   ]
  },
  {
   "cell_type": "code",
   "execution_count": 6,
   "id": "0009554b-649a-4fe4-959e-8449b45f434f",
   "metadata": {},
   "outputs": [
    {
     "name": "stdout",
     "output_type": "stream",
     "text": [
      "3\n",
      "2\n",
      "1\n",
      "0\n"
     ]
    }
   ],
   "source": [
    "list1 = [3, 2, 1, 0]\n",
    "for i in list1:\n",
    "    print(i)"
   ]
  },
  {
   "cell_type": "markdown",
   "id": "87057b10-de7d-4740-8beb-5de7edd5b737",
   "metadata": {},
   "source": [
    " 4. List Comprehension"
   ]
  },
  {
   "cell_type": "markdown",
   "id": "a655055c-a71e-484e-9f85-d002b493b5c0",
   "metadata": {},
   "source": [
    " Use a list comprehension to generate a list of even numbers from 0 to 10."
   ]
  },
  {
   "cell_type": "code",
   "execution_count": 7,
   "id": "c6a57584-9c8f-49f7-a314-e1da646c8364",
   "metadata": {},
   "outputs": [
    {
     "data": {
      "text/plain": [
       "[0, 2, 4, 6, 8, 10]"
      ]
     },
     "execution_count": 7,
     "metadata": {},
     "output_type": "execute_result"
    }
   ],
   "source": [
    "list(i for i in range(0,11) if i % 2 == 0 )"
   ]
  },
  {
   "cell_type": "markdown",
   "id": "ade408f6-17a0-4521-a98a-ccf969c44f2e",
   "metadata": {},
   "source": [
    " 5. Dictionary Comprehension"
   ]
  },
  {
   "cell_type": "markdown",
   "id": "69229401-9b98-4a30-a465-35fd06a05837",
   "metadata": {},
   "source": [
    " Use a dictionary comprehension (or another method) to create a dictionary called squares\n",
    "\n",
    "where:\n",
    "\n",
    "The keys are numbers from 0 to 9\n",
    "The values are the squares of the keys"
   ]
  },
  {
   "cell_type": "code",
   "execution_count": 8,
   "id": "a688b16d-c049-4c17-bf6d-f858f256a658",
   "metadata": {},
   "outputs": [
    {
     "data": {
      "text/plain": [
       "{0: 0, 1: 1, 2: 4, 3: 9, 4: 16, 5: 25, 6: 36, 7: 49, 8: 64, 9: 81}"
      ]
     },
     "execution_count": 8,
     "metadata": {},
     "output_type": "execute_result"
    }
   ],
   "source": [
    "dict({x: x**2 for x in range(0,10)})"
   ]
  },
  {
   "cell_type": "markdown",
   "id": "8651c0e0-25ed-450f-b8ae-3a1627dea52f",
   "metadata": {},
   "source": [
    " 6. Set Comprehension"
   ]
  },
  {
   "cell_type": "markdown",
   "id": "19e1b01e-461e-46c9-96cd-ac2e3dd5141c",
   "metadata": {},
   "source": [
    " Create a set odd that contains all the odd numbers from 0 to 9 using a set comprehension."
   ]
  },
  {
   "cell_type": "code",
   "execution_count": 9,
   "id": "6278ae78-3836-4a74-ac90-9473a4e7215f",
   "metadata": {},
   "outputs": [
    {
     "data": {
      "text/plain": [
       "{1, 3, 5, 7, 9}"
      ]
     },
     "execution_count": 9,
     "metadata": {},
     "output_type": "execute_result"
    }
   ],
   "source": [
    "set(i for i in range(0,10) if i % 2 != 0 )"
   ]
  },
  {
   "cell_type": "markdown",
   "id": "ab887d99-7384-414b-a05b-aa021e7187aa",
   "metadata": {},
   "source": [
    " 7. Generator Expression"
   ]
  },
  {
   "cell_type": "markdown",
   "id": "27ae2f9d-240f-4d2b-9b5e-750467310d26",
   "metadata": {},
   "source": [
    "Use a generator expression to create strings like 'Got_0', 'Got_1', ..., 'Got_9'.\n",
    "\n",
    "Iterate over the generator using a for loop and print the results in one line separated by spaces."
   ]
  },
  {
   "cell_type": "code",
   "execution_count": 10,
   "id": "23f95aaa-d567-4914-bacc-5211cd01e947",
   "metadata": {},
   "outputs": [
    {
     "name": "stdout",
     "output_type": "stream",
     "text": [
      "Got_0 Got_1 Got_2 Got_3 Got_4 Got_5 Got_6 Got_7 Got_8 Got_9 "
     ]
    }
   ],
   "source": [
    "generator = (f\"Got_{i}\" for i in range(10))\n",
    "for i in generator:\n",
    "    print(i,end = \" \")"
   ]
  },
  {
   "cell_type": "markdown",
   "id": "cc6d2c7c-4521-48fd-9375-5b319752f682",
   "metadata": {},
   "source": [
    " 8. Define a Simple Function"
   ]
  },
  {
   "cell_type": "markdown",
   "id": "df632108-e92d-44d3-a567-6d5f22129621",
   "metadata": {},
   "source": [
    " Define a function good() that returns this list: ['Harry', 'Ron', 'Hermione']"
   ]
  },
  {
   "cell_type": "code",
   "execution_count": 11,
   "id": "e9c41370-8cd8-4dc6-bb11-14424e205afe",
   "metadata": {},
   "outputs": [],
   "source": [
    "def good():\n",
    "    return ['Harry', 'Ron', 'Hermione']"
   ]
  },
  {
   "cell_type": "code",
   "execution_count": 12,
   "id": "e2f9ecb3-72f9-4181-8d29-24ecf004c650",
   "metadata": {},
   "outputs": [
    {
     "data": {
      "text/plain": [
       "['Harry', 'Ron', 'Hermione']"
      ]
     },
     "execution_count": 12,
     "metadata": {},
     "output_type": "execute_result"
    }
   ],
   "source": [
    "good()"
   ]
  },
  {
   "cell_type": "markdown",
   "id": "1f86254f-ff0d-4d0a-a535-3a4c414d7fac",
   "metadata": {},
   "source": [
    " 9. Generator Function and Indexing"
   ]
  },
  {
   "cell_type": "markdown",
   "id": "094b3524-0d43-4477-944a-47af1ed7abcf",
   "metadata": {},
   "source": [
    " Define a generator function get_odds() that yields odd numbers from 0 to 9. Use a loop or generator handling to find and print the third odd number generated."
   ]
  },
  {
   "cell_type": "code",
   "execution_count": 13,
   "id": "997c458e-e9d7-48cf-8dd8-9583eed576a6",
   "metadata": {},
   "outputs": [
    {
     "name": "stdout",
     "output_type": "stream",
     "text": [
      "The third odd number is: 5\n"
     ]
    }
   ],
   "source": [
    "def get_odds():\n",
    "    for num in range(0,10):\n",
    "        if num % 2 != 0:\n",
    "            yield num\n",
    "\n",
    "count = 0\n",
    "for odd in get_odds():\n",
    "    count += 1\n",
    "    if count == 3:\n",
    "        print(\"The third odd number is:\", odd)\n",
    "        break"
   ]
  },
  {
   "cell_type": "markdown",
   "id": "f724fc26-f64a-4749-80a5-4a65ef7e5d3b",
   "metadata": {},
   "source": [
    " 10. Use zip() to Build a Dictionary"
   ]
  },
  {
   "cell_type": "markdown",
   "id": "5ca41cb1-b3f8-4964-a31f-b0e2183583b4",
   "metadata": {},
   "source": [
    "Given:\n",
    "\n",
    "titles = ['Creature of Habit', 'Crewel Fate']\n",
    "\n",
    "plots = ['A nun turns into a monster', 'A haunted yarn shop']\n",
    "\n",
    "Use zip() to build and print a dictionary called movies that pairs each title with its plot."
   ]
  },
  {
   "cell_type": "code",
   "execution_count": 14,
   "id": "2d2e2c2e-6a75-4722-b848-ee06b2851a5f",
   "metadata": {},
   "outputs": [
    {
     "data": {
      "text/plain": [
       "{'Creature of Habit': 'A nun turns into a monster',\n",
       " 'Crewel Fate': 'A haunted yarn shop'}"
      ]
     },
     "execution_count": 14,
     "metadata": {},
     "output_type": "execute_result"
    }
   ],
   "source": [
    "titles = ['Creature of Habit', 'Crewel Fate']\n",
    "plots = ['A nun turns into a monster', 'A haunted yarn shop']\n",
    "\n",
    "movies = dict(zip(titles, plots))\n",
    "movies"
   ]
  },
  {
   "cell_type": "code",
   "execution_count": null,
   "id": "be3fc4e6-626c-41be-b281-114cd85278ab",
   "metadata": {},
   "outputs": [],
   "source": []
  }
 ],
 "metadata": {
  "kernelspec": {
   "display_name": "Python 3 (ipykernel)",
   "language": "python",
   "name": "python3"
  },
  "language_info": {
   "codemirror_mode": {
    "name": "ipython",
    "version": 3
   },
   "file_extension": ".py",
   "mimetype": "text/x-python",
   "name": "python",
   "nbconvert_exporter": "python",
   "pygments_lexer": "ipython3",
   "version": "3.12.7"
  }
 },
 "nbformat": 4,
 "nbformat_minor": 5
}
