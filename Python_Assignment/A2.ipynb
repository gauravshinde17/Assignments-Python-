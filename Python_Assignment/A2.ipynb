{
 "cells": [
  {
   "cell_type": "markdown",
   "id": "9b1675f7-059d-4d7e-aa7e-6b743cfb6f06",
   "metadata": {},
   "source": [
    "Question_1\n",
    " Create a variable age and assign it the value 25 .\n",
    " Then print the value of age along with its data type using the type() function."
   ]
  },
  {
   "cell_type": "code",
   "execution_count": 1,
   "id": "229f4849-4bce-4999-9ca7-8f47288107db",
   "metadata": {},
   "outputs": [
    {
     "name": "stdout",
     "output_type": "stream",
     "text": [
      "25\n"
     ]
    },
    {
     "data": {
      "text/plain": [
       "int"
      ]
     },
     "execution_count": 1,
     "metadata": {},
     "output_type": "execute_result"
    }
   ],
   "source": [
    "age = 25\n",
    "print(age)\n",
    "type(age)"
   ]
  },
  {
   "cell_type": "markdown",
   "id": "7eb4a108-fcaf-4543-b88f-285072b2de31",
   "metadata": {},
   "source": [
    "Question_2\n",
    " Assign the number 12.5 to a variable data type. Then assign the value price .\n",
    " Print both the variable and its 12 to the same variable and print its data type again. What do you observe?"
   ]
  },
  {
   "cell_type": "code",
   "execution_count": 2,
   "id": "97eff701-fe1a-4e7b-904a-1f0a9662b9f4",
   "metadata": {},
   "outputs": [
    {
     "name": "stdout",
     "output_type": "stream",
     "text": [
      "12.5\n",
      "12\n"
     ]
    },
    {
     "data": {
      "text/plain": [
       "int"
      ]
     },
     "execution_count": 2,
     "metadata": {},
     "output_type": "execute_result"
    }
   ],
   "source": [
    "vp=12.5\n",
    "print(vp)\n",
    "type(vp)\n",
    "vp=12\n",
    "print(vp)\n",
    "type(vp)"
   ]
  },
  {
   "cell_type": "markdown",
   "id": "c6499286-da4c-4bda-8e12-ed4cad724411",
   "metadata": {},
   "source": [
    "Question_3\n",
    " Create a variable is_raining and set it to True . Print the value of the variable along with its type.\n",
    " Then set is_raining to False and print the new value and type."
   ]
  },
  {
   "cell_type": "code",
   "execution_count": 3,
   "id": "cc2bc9a6-7215-4b43-9ff9-1f90f4e3cf64",
   "metadata": {},
   "outputs": [
    {
     "name": "stdout",
     "output_type": "stream",
     "text": [
      "True\n",
      "False\n"
     ]
    },
    {
     "data": {
      "text/plain": [
       "bool"
      ]
     },
     "execution_count": 3,
     "metadata": {},
     "output_type": "execute_result"
    }
   ],
   "source": [
    "is_raining = True\n",
    "print(is_raining)\n",
    "type(is_raining)\n",
    "\n",
    "is_raining = False\n",
    "print(is_raining)\n",
    "type(is_raining)"
   ]
  },
  {
   "cell_type": "markdown",
   "id": "1fda5b70-2023-4968-beec-158a10200330",
   "metadata": {},
   "source": [
    "Question_4\n",
    " Create a variable my_name and store your full name in it as a string.\n",
    " Then print the value of my_name using single quotes "
   ]
  },
  {
   "cell_type": "code",
   "execution_count": 4,
   "id": "b7e99942-50e6-4992-a7a6-b14539b30781",
   "metadata": {},
   "outputs": [
    {
     "name": "stdout",
     "output_type": "stream",
     "text": [
      "Gaurav Abasaheb Shinde\n"
     ]
    }
   ],
   "source": [
    "my_name = \"Gaurav Abasaheb Shinde\"\n",
    "print(f\"{my_name}\")"
   ]
  },
  {
   "cell_type": "markdown",
   "id": "d1bf7f13-553a-43ad-b845-15228f61fb8b",
   "metadata": {},
   "source": [
    "Question_5\n",
    " Write a Python program that asks the user for their name and age using the input() function.\n",
    " Store the inputs in variables and print a sentence like \"Hello, [Name]! You are [Age] years old.\" Ensure you cast the age to an integer."
   ]
  },
  {
   "cell_type": "code",
   "execution_count": 5,
   "id": "00d59053-5d7a-47ea-8e1e-2befa601d577",
   "metadata": {},
   "outputs": [
    {
     "name": "stdin",
     "output_type": "stream",
     "text": [
      "enter your name Gaurav Shinde\n",
      "enter your age 20\n"
     ]
    },
    {
     "name": "stdout",
     "output_type": "stream",
     "text": [
      "Hello Gaurav Shinde ! You are 20 years old\n"
     ]
    }
   ],
   "source": [
    "n = input(\"enter your name\")\n",
    "m = int(input(\"enter your age\"))\n",
    "\n",
    "print(f\"Hello {n} ! You are {m} years old\")"
   ]
  },
  {
   "cell_type": "markdown",
   "id": "6b529970-17f4-441a-a393-64828b666e43",
   "metadata": {},
   "source": [
    "Question_6\n",
    " Create two variables x and y and assign them the values 10 and 3.5 , respectively.\n",
    " Print their values and types. Then, create a new variable sum_xy and store the sum of x and y. Print the result and its type."
   ]
  },
  {
   "cell_type": "code",
   "execution_count": 6,
   "id": "379c9f80-6542-4fb3-a75e-ec3381a84df8",
   "metadata": {},
   "outputs": [
    {
     "name": "stdout",
     "output_type": "stream",
     "text": [
      "10 <class 'int'>\n",
      "3.5 <class 'float'>\n",
      "13.5 <class 'float'>\n"
     ]
    }
   ],
   "source": [
    "x = 10\n",
    "y = 3.5\n",
    "\n",
    "print(x,type(x))\n",
    "print(y,type(y))\n",
    "\n",
    "sum_xy = x + y\n",
    "print(sum_xy,type(sum_xy))"
   ]
  },
  {
   "cell_type": "markdown",
   "id": "068351e2-981b-46d1-8738-5b1e5eee61fb",
   "metadata": {},
   "source": [
    "Question_7\n",
    " Using the type() function, check and print the data type of the following:\n",
    "  45.0\n",
    " \"hello\"\n",
    "  None\n",
    "  1\n",
    "  False"
   ]
  },
  {
   "cell_type": "code",
   "execution_count": 7,
   "id": "027a9d7f-17cd-4b5f-bd04-ff2f6bc8f204",
   "metadata": {},
   "outputs": [
    {
     "name": "stdout",
     "output_type": "stream",
     "text": [
      "<class 'float'>\n",
      "<class 'str'>\n",
      "<class 'NoneType'>\n",
      "<class 'int'>\n",
      "<class 'bool'>\n"
     ]
    }
   ],
   "source": [
    "print(type(45.0))\n",
    "print(type(\"hello\"))\n",
    "print(type(None))\n",
    "print(type(1))\n",
    "print(type(False))\n",
    "\n"
   ]
  },
  {
   "cell_type": "markdown",
   "id": "33fa7ccb-8b3e-4373-b6ad-91342ee9e394",
   "metadata": {},
   "source": [
    "Question_8\n",
    " Write a Python program to print three strings \"apple\" , \"banana\" , and \"cherry\" \n",
    " on the same line, separated by a space. Then modify the program to separate the strings using a comma , instead of a space."
   ]
  },
  {
   "cell_type": "code",
   "execution_count": 8,
   "id": "dd583790-d9c7-4759-9e8a-53f067ff6db5",
   "metadata": {},
   "outputs": [
    {
     "name": "stdout",
     "output_type": "stream",
     "text": [
      "apple banana cherry \n",
      "apple,banana,cherry\n"
     ]
    }
   ],
   "source": [
    "A = \"apple\"\n",
    "B = \"banana\"\n",
    "C = \"cherry\"\n",
    "\n",
    "print(A,B,C, end = \" \")\n",
    "print(end = \"\\n\")\n",
    "print(A,B,C, sep = \",\")"
   ]
  },
  {
   "cell_type": "markdown",
   "id": "f8e41040-86ce-4d88-9671-1efcdc8b2e4d",
   "metadata": {},
   "source": [
    "Question_9\n",
    " Create a variable big_number and assign it a very large integer value (e.g., 987654321987654321 ). Print the value and its type.\n",
    " What do you notice about the size of the number?"
   ]
  },
  {
   "cell_type": "code",
   "execution_count": 10,
   "id": "f1fb277d-1ea8-496b-9211-c7a910ddd5c8",
   "metadata": {},
   "outputs": [
    {
     "name": "stdout",
     "output_type": "stream",
     "text": [
      "<class 'int'>\n"
     ]
    }
   ],
   "source": [
    "big_number = 987654321987654321\n",
    "print(type(big_number))"
   ]
  },
  {
   "cell_type": "markdown",
   "id": "3219553e-4997-4103-992f-929c54b228ab",
   "metadata": {},
   "source": [
    "Question_10\n",
    " Write a Python program that prints the result of multiplying two floats (e.g., 2.5 and 3.7 ).\n",
    " Then check and print the data type of the result."
   ]
  },
  {
   "cell_type": "code",
   "execution_count": 11,
   "id": "a01779d6-1a69-401c-b4cb-2ca7cd382688",
   "metadata": {},
   "outputs": [
    {
     "name": "stdout",
     "output_type": "stream",
     "text": [
      "<class 'float'>\n"
     ]
    }
   ],
   "source": [
    "result = 2.5*3.7\n",
    "print(type(result))"
   ]
  },
  {
   "cell_type": "code",
   "execution_count": null,
   "id": "cc22e3f5-5ce2-4ef9-a0f3-57fae87fe778",
   "metadata": {},
   "outputs": [],
   "source": []
  }
 ],
 "metadata": {
  "kernelspec": {
   "display_name": "Python 3 (ipykernel)",
   "language": "python",
   "name": "python3"
  },
  "language_info": {
   "codemirror_mode": {
    "name": "ipython",
    "version": 3
   },
   "file_extension": ".py",
   "mimetype": "text/x-python",
   "name": "python",
   "nbconvert_exporter": "python",
   "pygments_lexer": "ipython3",
   "version": "3.12.7"
  }
 },
 "nbformat": 4,
 "nbformat_minor": 5
}
