{
 "cells": [
  {
   "cell_type": "markdown",
   "id": "9512b107-368d-4311-81bb-6d632059cd91",
   "metadata": {},
   "source": [
    "1. Year List Creation"
   ]
  },
  {
   "cell_type": "markdown",
   "id": "fbb41f2a-3d1c-4eaa-905d-8a9193aba0af",
   "metadata": {},
   "source": [
    "Create a list years_list that includes the year of your birth and the next five years (total 6 years)."
   ]
  },
  {
   "cell_type": "code",
   "execution_count": 2,
   "id": "5c53442b-c613-4e83-bcda-15b61be77730",
   "metadata": {},
   "outputs": [
    {
     "name": "stdout",
     "output_type": "stream",
     "text": [
      "[2000, 2001, 2002, 2003, 2004, 2005]\n"
     ]
    }
   ],
   "source": [
    "birth_year = 2000 \n",
    "years_list = []\n",
    "\n",
    "for i in range(6):\n",
    "    years_list.append(birth_year + i)\n",
    "\n",
    "print(years_list)"
   ]
  },
  {
   "cell_type": "markdown",
   "id": "dbb3f6e7-37f6-499b-94dd-7b14ec397722",
   "metadata": {},
   "source": [
    "2. Third Birthday Year"
   ]
  },
  {
   "cell_type": "markdown",
   "id": "5be5a3b8-7fa8-49aa-b434-20084e832a32",
   "metadata": {},
   "source": [
    " Print the year in years_list when you were 3 years old.\n",
    " Hint: Remember, your 0th year is the first item."
   ]
  },
  {
   "cell_type": "code",
   "execution_count": 3,
   "id": "a267ea41-b41b-44cc-b7f8-713b10555c8b",
   "metadata": {},
   "outputs": [
    {
     "name": "stdout",
     "output_type": "stream",
     "text": [
      "The year when I was 3 years old: 1998\n"
     ]
    }
   ],
   "source": [
    "birth_year = 1995 \n",
    "years_list = [birth_year + i for i in range(6)]\n",
    "\n",
    "year_at_age_3 = birth_year + 3\n",
    "print(\"The year when I was 3 years old:\", year_at_age_3)\n"
   ]
  },
  {
   "cell_type": "markdown",
   "id": "b1fc9369-5ef7-454f-a0c0-8f739c27b40f",
   "metadata": {},
   "source": [
    " 3. Oldest Year"
   ]
  },
  {
   "cell_type": "markdown",
   "id": "84ae868e-5ef4-404b-bc5c-df6010c06fdf",
   "metadata": {},
   "source": [
    " Which year in years_list represents the most recent (your oldest age)?"
   ]
  },
  {
   "cell_type": "code",
   "execution_count": 5,
   "id": "b8b2fc15-2f8a-49f5-967c-a1ab4d773fc6",
   "metadata": {},
   "outputs": [
    {
     "name": "stdout",
     "output_type": "stream",
     "text": [
      "The most recent year (oldest age): 2000\n"
     ]
    }
   ],
   "source": [
    "birth_year = 1995  \n",
    "years_list = [birth_year + i for i in range(6)]\n",
    "\n",
    "most_recent_year = years_list[-1]\n",
    "print(\"The most recent year (oldest age):\", most_recent_year)"
   ]
  },
  {
   "cell_type": "markdown",
   "id": "32f2960c-9bcc-4b26-8fa3-d2dea301df19",
   "metadata": {},
   "source": [
    " 4. List of Things"
   ]
  },
  {
   "cell_type": "markdown",
   "id": "f17f4222-33c8-4146-a36c-3c3cc1298f3a",
   "metadata": {},
   "source": [
    " Create a list called things with the following items: [\"mozzarella\", \"cinderella\", \"salmonella\"]"
   ]
  },
  {
   "cell_type": "code",
   "execution_count": 6,
   "id": "7997cdbc-8830-41c6-ad2b-76cc9c06c3eb",
   "metadata": {},
   "outputs": [
    {
     "name": "stdout",
     "output_type": "stream",
     "text": [
      "['mozzarella', 'cinderella', 'salmonella']\n"
     ]
    }
   ],
   "source": [
    "things = [\"mozzarella\", \"cinderella\", \"salmonella\"]\n",
    "print(things)"
   ]
  },
  {
   "cell_type": "markdown",
   "id": "f79ecaf2-657a-4986-8b19-9585337c97dd",
   "metadata": {},
   "source": [
    " 5. Capitalization Check"
   ]
  },
  {
   "cell_type": "markdown",
   "id": "0f656b05-3da0-49b4-a70f-94882d89ad40",
   "metadata": {},
   "source": [
    " Capitalize the item that refers to a person in the things list. Print the list. Did the original list change?"
   ]
  },
  {
   "cell_type": "code",
   "execution_count": 7,
   "id": "22e3bf43-13e1-46fd-8dcb-12ad42255828",
   "metadata": {},
   "outputs": [
    {
     "name": "stdout",
     "output_type": "stream",
     "text": [
      "Updated list: ['mozzarella', 'Cinderella', 'salmonella']\n"
     ]
    }
   ],
   "source": [
    "things = [\"mozzarella\", \"cinderella\", \"salmonella\"]\n",
    "things[1] = things[1].capitalize()\n",
    "print(\"Updated list:\", things)"
   ]
  },
  {
   "cell_type": "markdown",
   "id": "87df6ade-9924-4d3c-823d-d195d2b9cc71",
   "metadata": {},
   "source": [
    " 6. Surprise List"
   ]
  },
  {
   "cell_type": "markdown",
   "id": "ca50b81c-121f-4169-951e-c6211d3b9b56",
   "metadata": {},
   "source": [
    " Create a list called surprise_list with these values: [\"Groucho\", \"Chico\", \"Harpo\"]"
   ]
  },
  {
   "cell_type": "code",
   "execution_count": 8,
   "id": "b22a4054-f173-411d-a647-4ca0e48a510f",
   "metadata": {},
   "outputs": [
    {
     "name": "stdout",
     "output_type": "stream",
     "text": [
      "['Groucho', 'Chico', 'Harpo']\n"
     ]
    }
   ],
   "source": [
    "surprise_list = [\"Groucho\", \"Chico\", \"Harpo\"]\n",
    "print(surprise_list)"
   ]
  },
  {
   "cell_type": "markdown",
   "id": "2914d518-4bf5-435a-a6ea-7909662b97b1",
   "metadata": {},
   "source": [
    " 7. String Transformation"
   ]
  },
  {
   "cell_type": "markdown",
   "id": "b161034c-080b-4590-85cd-e7c83083edfd",
   "metadata": {},
   "source": [
    " Take the last item in surprise_list:\n",
    "\n",
    "- Lowercase it\n",
    "- Reverse it\n",
    "- Capitalize the result\n",
    "\n",
    "Then print it."
   ]
  },
  {
   "cell_type": "code",
   "execution_count": 9,
   "id": "08f96294-be45-4f3d-9e11-2c7ea3ab024c",
   "metadata": {},
   "outputs": [
    {
     "name": "stdout",
     "output_type": "stream",
     "text": [
      "Oprah\n"
     ]
    }
   ],
   "source": [
    "surprise_list = [\"Groucho\", \"Chico\", \"Harpo\"]\n",
    "last_item = surprise_list[-1]\n",
    "transformed = last_item.lower()[::-1].capitalize()\n",
    "print(transformed)"
   ]
  },
  {
   "cell_type": "markdown",
   "id": "8c03ab3d-cf86-4f2f-925e-742016d0fec8",
   "metadata": {},
   "source": [
    " 8. English-to-French Dictionary"
   ]
  },
  {
   "cell_type": "markdown",
   "id": "3548f05a-da2b-4047-8cc7-722f6785e404",
   "metadata": {},
   "source": [
    " Create a dictionary e2f that maps these:\n",
    "\n",
    "- dog → chien\n",
    "- cat → chat\n",
    "- walrus → morse\n",
    "\n",
    "Print the dictionary."
   ]
  },
  {
   "cell_type": "code",
   "execution_count": 1,
   "id": "2f1a96f4-07eb-4873-9e41-488b4f2f6408",
   "metadata": {},
   "outputs": [],
   "source": [
    "e2f = {\n",
    "    'dog': 'chien',\n",
    "    'cat': 'chat',\n",
    "    'walrus': 'morse'\n",
    "}"
   ]
  },
  {
   "cell_type": "code",
   "execution_count": 2,
   "id": "597dd2a6-64c6-465f-a52e-337c683a4540",
   "metadata": {},
   "outputs": [
    {
     "data": {
      "text/plain": [
       "{'dog': 'chien', 'cat': 'chat', 'walrus': 'morse'}"
      ]
     },
     "execution_count": 2,
     "metadata": {},
     "output_type": "execute_result"
    }
   ],
   "source": [
    "e2f"
   ]
  },
  {
   "cell_type": "markdown",
   "id": "e82e80ec-e8b4-43b6-9378-e590a024ac9b",
   "metadata": {},
   "source": [
    " 9. Translate 'walrus' to French"
   ]
  },
  {
   "cell_type": "markdown",
   "id": "170875d7-0c4a-4160-b50e-bb1786fd2213",
   "metadata": {},
   "source": [
    " Use e2f to print the French word for “walrus.”"
   ]
  },
  {
   "cell_type": "code",
   "execution_count": 3,
   "id": "44f3a17b-0b68-47e7-9863-2921da9cd226",
   "metadata": {},
   "outputs": [
    {
     "name": "stdout",
     "output_type": "stream",
     "text": [
      "morse\n"
     ]
    }
   ],
   "source": [
    "e2f = {\n",
    "    \"dog\": \"chien\",\n",
    "    \"cat\": \"chat\",\n",
    "    \"walrus\": \"morse\"\n",
    "}\n",
    "\n",
    "print(e2f[\"walrus\"])"
   ]
  },
  {
   "cell_type": "markdown",
   "id": "033ed136-30fe-496d-a4c7-474f74d6a083",
   "metadata": {},
   "source": [
    " 10. Reverse Dictionary"
   ]
  },
  {
   "cell_type": "markdown",
   "id": "1d9552c8-c051-4fe5-8df4-1e29164caac8",
   "metadata": {},
   "source": [
    " Create a reverse dictionary f2e from e2f using the .items() method. Print f2e."
   ]
  },
  {
   "cell_type": "code",
   "execution_count": 4,
   "id": "b4d03397-d5a6-433d-8a87-59f52f02ae71",
   "metadata": {},
   "outputs": [
    {
     "name": "stdout",
     "output_type": "stream",
     "text": [
      "{'chien': 'dog', 'chat': 'cat', 'morse': 'walrus'}\n"
     ]
    }
   ],
   "source": [
    "f2e = {}\n",
    "for english, french in e2f.items():\n",
    "    f2e[french] = english\n",
    "\n",
    "print(f2e)"
   ]
  },
  {
   "cell_type": "markdown",
   "id": "ee33bad6-e507-4d02-9cad-7df133938dbc",
   "metadata": {},
   "source": [
    " 11. Translate 'chien' to English"
   ]
  },
  {
   "cell_type": "markdown",
   "id": "08ae454c-527f-4e2a-9ef0-be9f5deb0868",
   "metadata": {},
   "source": [
    " Use f2e to print the English word for “chien.”"
   ]
  },
  {
   "cell_type": "code",
   "execution_count": 7,
   "id": "b95e96e6-d8de-4a95-8999-3556c84c8d91",
   "metadata": {},
   "outputs": [
    {
     "name": "stdout",
     "output_type": "stream",
     "text": [
      "dog\n"
     ]
    }
   ],
   "source": [
    "f2e = {\n",
    "    \"chien\": \"dog\",\n",
    "    \"chat\": \"cat\",\n",
    "    \"morse\": \"walrus\"\n",
    "}\n",
    "\n",
    "print(f2e[\"chien\"])"
   ]
  },
  {
   "cell_type": "markdown",
   "id": "39605f6f-93ae-44e7-8ed0-78d314306d74",
   "metadata": {},
   "source": [
    " 12. Get All English Words"
   ]
  },
  {
   "cell_type": "markdown",
   "id": "3dfcd492-d843-4fb7-80b4-a6652d21c304",
   "metadata": {},
   "source": [
    " Print the set of all English words (the keys from e2f)."
   ]
  },
  {
   "cell_type": "code",
   "execution_count": 8,
   "id": "3bdfced2-228f-4f5b-8621-e9d9c2d44f53",
   "metadata": {},
   "outputs": [
    {
     "name": "stdout",
     "output_type": "stream",
     "text": [
      "{'walrus', 'dog', 'cat'}\n"
     ]
    }
   ],
   "source": [
    "e2f = {\n",
    "    \"dog\": \"chien\",\n",
    "    \"cat\": \"chat\",\n",
    "    \"walrus\": \"morse\"\n",
    "}\n",
    "\n",
    "print(set(e2f.keys()))"
   ]
  },
  {
   "cell_type": "markdown",
   "id": "536bfc11-cdc3-4868-b64b-debabd5c476b",
   "metadata": {},
   "source": [
    " 13. Create a Nested Dictionary (life)"
   ]
  },
  {
   "cell_type": "markdown",
   "id": "4dad6c12-732f-496d-8715-4fe6ebe51669",
   "metadata": {},
   "source": [
    " Create a dictionary life structured like this: {\n",
    "\n",
    "'animals': { 'cats': ['Henri', 'Grumpy', 'Lucy'], 'octopi': {}, 'emus': {} }, 'plants': {}, 'other': {} }"
   ]
  },
  {
   "cell_type": "code",
   "execution_count": 9,
   "id": "4491b00d-c09c-44f8-803a-51d07592a192",
   "metadata": {},
   "outputs": [],
   "source": [
    "life = {\n",
    "    'animals': {\n",
    "        'cats': ['Henri', 'Grumpy', 'Lucy'],\n",
    "        'octopi': {},\n",
    "        'emus': {}\n",
    "    },\n",
    "    'plants': {},\n",
    "    'other': {}\n",
    "}"
   ]
  },
  {
   "cell_type": "code",
   "execution_count": 10,
   "id": "0e09029e-80f7-401a-8924-26c37a4121d9",
   "metadata": {},
   "outputs": [
    {
     "data": {
      "text/plain": [
       "{'animals': {'cats': ['Henri', 'Grumpy', 'Lucy'], 'octopi': {}, 'emus': {}},\n",
       " 'plants': {},\n",
       " 'other': {}}"
      ]
     },
     "execution_count": 10,
     "metadata": {},
     "output_type": "execute_result"
    }
   ],
   "source": [
    "life"
   ]
  },
  {
   "cell_type": "markdown",
   "id": "c96e44bd-a9c1-4a59-86be-06b0598661ac",
   "metadata": {},
   "source": [
    " 14. Top-Level Keys"
   ]
  },
  {
   "cell_type": "markdown",
   "id": "9171fe39-edb3-4f12-b4f4-c26766a3f111",
   "metadata": {},
   "source": [
    " Print the top-level keys of life."
   ]
  },
  {
   "cell_type": "code",
   "execution_count": 11,
   "id": "fb7c018e-3519-4659-a76e-fb7d7db375c7",
   "metadata": {},
   "outputs": [
    {
     "data": {
      "text/plain": [
       "dict_keys(['animals', 'plants', 'other'])"
      ]
     },
     "execution_count": 11,
     "metadata": {},
     "output_type": "execute_result"
    }
   ],
   "source": [
    "life.keys()"
   ]
  },
  {
   "cell_type": "markdown",
   "id": "3646e086-aad5-4328-b36c-169ba27a0db9",
   "metadata": {},
   "source": [
    " 15. Animal Categories"
   ]
  },
  {
   "cell_type": "markdown",
   "id": "8cad3371-1b18-4ed9-8883-b463fc19e12b",
   "metadata": {},
   "source": [
    " Print the list of cat names stored in life['animals']['cats']."
   ]
  },
  {
   "cell_type": "code",
   "execution_count": 12,
   "id": "422f3253-7db1-4785-89d0-b373504bc3c1",
   "metadata": {},
   "outputs": [
    {
     "data": {
      "text/plain": [
       "['Henri', 'Grumpy', 'Lucy']"
      ]
     },
     "execution_count": 12,
     "metadata": {},
     "output_type": "execute_result"
    }
   ],
   "source": [
    "life['animals']['cats']"
   ]
  },
  {
   "cell_type": "markdown",
   "id": "fa6f56f4-b909-4fc5-9f76-40ab281892e5",
   "metadata": {},
   "source": [
    " 16. List of Cat Names"
   ]
  },
  {
   "cell_type": "markdown",
   "id": "cebd52eb-f7f7-480a-9128-4b6181bb139f",
   "metadata": {},
   "source": [
    " Print the list of cat names stored in life['animals']['cats']."
   ]
  },
  {
   "cell_type": "code",
   "execution_count": 14,
   "id": "3a47d80d-f827-4769-976a-435d71d9483b",
   "metadata": {},
   "outputs": [
    {
     "data": {
      "text/plain": [
       "['Henri', 'Grumpy', 'Lucy']"
      ]
     },
     "execution_count": 14,
     "metadata": {},
     "output_type": "execute_result"
    }
   ],
   "source": [
    "life['animals']['cats']"
   ]
  }
 ],
 "metadata": {
  "kernelspec": {
   "display_name": "Python 3 (ipykernel)",
   "language": "python",
   "name": "python3"
  },
  "language_info": {
   "codemirror_mode": {
    "name": "ipython",
    "version": 3
   },
   "file_extension": ".py",
   "mimetype": "text/x-python",
   "name": "python",
   "nbconvert_exporter": "python",
   "pygments_lexer": "ipython3",
   "version": "3.12.7"
  }
 },
 "nbformat": 4,
 "nbformat_minor": 5
}
