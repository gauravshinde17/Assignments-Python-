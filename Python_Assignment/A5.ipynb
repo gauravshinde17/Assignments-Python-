{
 "cells": [
  {
   "cell_type": "code",
   "execution_count": null,
   "id": "24c9f9a1-b366-44ff-ab34-a364661386a1",
   "metadata": {},
   "outputs": [],
   "source": [
    "Q_1 Odd or Even\n",
    " Write a program that takes an integer input from the user and prints whether the number is odd or even"
   ]
  },
  {
   "cell_type": "code",
   "execution_count": null,
   "id": "9661c2db-f490-47f9-b073-2890e6499430",
   "metadata": {},
   "outputs": [],
   "source": [
    "num = int(input(\"ENTER THE NUMBER\"))\n",
    "\n",
    "if num%2 == 0:\n",
    "    print(\"THE NUMBER IS EVEN\")\n",
    "else:\n",
    "    print(\"THE NUMBER IS ODD.\")"
   ]
  },
  {
   "cell_type": "code",
   "execution_count": null,
   "id": "58757ec2-bda7-4f1f-a4b3-e0263ad1f28e",
   "metadata": {},
   "outputs": [],
   "source": [
    "Q_2 Positive, Negative, or Zero.\n",
    " Create a program that checks if a number entered by the user is positive, negative, or zero and prints the result."
   ]
  },
  {
   "cell_type": "code",
   "execution_count": null,
   "id": "e5aad4b0-32a2-4e16-bb20-3023189ec391",
   "metadata": {},
   "outputs": [],
   "source": [
    "num = int(input(\"ENTER THE NUMBER\"))\n",
    "\n",
    "if num > 0:\n",
    "    print(\"THE NUMBER IS POSITIVE.\")\n",
    "elif num < 0:\n",
    "    print(\"THE NUMBER IS NEGATIVE.\")\n",
    "else:\n",
    "    print(\"THE NUMBER IS ZERO.\")"
   ]
  },
  {
   "cell_type": "code",
   "execution_count": null,
   "id": "b09f7ec5-c410-473b-8da9-cfe032f7e41a",
   "metadata": {},
   "outputs": [],
   "source": [
    "Q_3 Grade Evaluation.\n",
    "  Write a program that takes a students score (0-100) and prints the corresponding letter grade (A, B, C, D, F)."
   ]
  },
  {
   "cell_type": "code",
   "execution_count": null,
   "id": "4c9a660e-85bc-4fba-ace8-f6b1cca0b877",
   "metadata": {},
   "outputs": [],
   "source": [
    "num1 = int(input(\"ENTER SCORE\"))\n",
    "\n",
    "if num1>90 and num1<100:\n",
    "    print(\"A\")\n",
    "elif num1>80 and num1<89:\n",
    "    print(\"B\")\n",
    "elif num1>70 and num1<79:\n",
    "    print(\"C\")\n",
    "elif num1>60 and num1<69:\n",
    "    print(\"D\")\n",
    "else:\n",
    "    print(\"f\")"
   ]
  },
  {
   "cell_type": "code",
   "execution_count": null,
   "id": "116c9f95-af59-41cf-a944-ebbb967090f5",
   "metadata": {},
   "outputs": [],
   "source": [
    "Q_4 Age Check.\n",
    "  Develop a program that asks for a users age and determines if they are eligible to vote (age 18 or older)."
   ]
  },
  {
   "cell_type": "code",
   "execution_count": null,
   "id": "6f812ad1-d502-4705-b7a9-5b1314ac9189",
   "metadata": {},
   "outputs": [],
   "source": [
    "age = int(input(\"ENTER AGE\"))\n",
    "\n",
    "if age >= 18:\n",
    "    print(\"PERSON ELIGIBLE TO VOTE\")\n",
    "else:\n",
    "    print(\"PERSON IS NOT ELIGIBLE TO VOTE\")"
   ]
  },
  {
   "cell_type": "code",
   "execution_count": null,
   "id": "27875366-5fa1-416c-ba36-7a3320e7882f",
   "metadata": {},
   "outputs": [],
   "source": [
    "Q_5 Temperature Check.\n",
    " Write a program that takes a temperature in Celsius and prints whether it is \"Freezing\", \"Cold\", \"Warm\", or \"Hot\" based on predefined ranges."
   ]
  },
  {
   "cell_type": "code",
   "execution_count": null,
   "id": "0b8ba3a6-1f8c-4ada-8e3c-2230801e6d2d",
   "metadata": {},
   "outputs": [],
   "source": [
    "temp = float(input(\"ENTER THE TEMPERATURE IN CELSIUS: \"))\n",
    "\n",
    "if temp < 0:\n",
    "    print(\"IT'S FREEZING\")\n",
    "elif temp < 10 and temp > 0:\n",
    "    print(\"IT'S COLD\")\n",
    "elif temp < 25 and temp > 10:\n",
    "    print(\"IT'S WARM\")\n",
    "elif temp > 25:\n",
    "    print(\"IT'S HOT\")\n",
    "else:\n",
    "    print(\"INVALID INPUT , ENTER THE TEMPERATURE IN CELSIUS\")"
   ]
  },
  {
   "cell_type": "markdown",
   "id": "e7dd11fd-6189-42b8-9ec0-5da9e2acae15",
   "metadata": {},
   "source": [
    "Q_6 Divisibility Check. \n",
    " Create a program that checks if a number is divisible by 3 and/or 5 and prints appropriate messages. "
   ]
  },
  {
   "cell_type": "code",
   "execution_count": null,
   "id": "00428cf7-a800-4730-90fb-e93910872257",
   "metadata": {},
   "outputs": [],
   "source": [
    "num = int(input(\"ENTER THE NUMBER: \"))\n",
    "\n",
    "if num%3 == 0 and num%5 == 0:\n",
    "    print(f\"{num} IS DIVISIBLE BY BOTH 3 AND 5\")\n",
    "elif num % 3 == 0:\n",
    "    print(f\"{num} IS DIVISIBLE BY 3.\")\n",
    "elif num % 5 == 0:\n",
    "    print(f\"{num} IS DIVISIBLE BY 5.\")\n",
    "else:\n",
    "    print(f\"{num} IS NOT DIVISIBLE BY 3 or 5.\")\n"
   ]
  },
  {
   "cell_type": "code",
   "execution_count": null,
   "id": "00104d02-8401-4ef2-85b3-00064d002d55",
   "metadata": {},
   "outputs": [],
   "source": [
    "Q_7 Leap Year Checker.\n",
    " Write a program that determines if a given year is a leap year or not."
   ]
  },
  {
   "cell_type": "code",
   "execution_count": null,
   "id": "645aa737-fe3d-47e2-8644-8b28fc5ca777",
   "metadata": {},
   "outputs": [],
   "source": [
    "year = int(input(\"ENTER THE YEAR: \"))\n",
    "\n",
    "if (year % 4 == 0 and year % 100 != 0) or (year % 400 == 0):\n",
    "    print(f\"{year} IS THE LEAP YEAR.\")\n",
    "else:\n",
    "    print(f\"{year} IS NOT A LEAP YEAR.\")"
   ]
  },
  {
   "cell_type": "code",
   "execution_count": null,
   "id": "7da8a3df-a7d1-42dd-88f4-bce947209606",
   "metadata": {},
   "outputs": [],
   "source": [
    "Q_8 Simple Calculator \n",
    " Create a basic calculator that takes two numbers and an operator (+, -, *, /) from the user and performs the operation,\n",
    " handling division by zero appropriately."
   ]
  },
  {
   "cell_type": "code",
   "execution_count": null,
   "id": "40ae8006-c97f-47e8-9166-c2fcd39e670a",
   "metadata": {},
   "outputs": [],
   "source": [
    "num1 = float(input(\"Enter the first number: \"))\n",
    "num2 = float(input(\"Enter the second number: \"))\n",
    "operator = input(\"Enter an operator (+, -, *, /): \")\n",
    "\n",
    "if operator == '+':\n",
    "    print(f\"The result is: {num1 + num2}\")\n",
    "elif operator == '-':\n",
    "    result = num1 - num2\n",
    "    print(f\"The result is: {num1 - num2}\")\n",
    "elif operator == '*':\n",
    "    print(f\"The result is: {num1 * num2}\")\n",
    "elif operator == '/':\n",
    "    if num2 == 0:\n",
    "        print(\"Error: Division by zero is not allowed.\")\n",
    "    else:\n",
    "        print(f\"The result is: {num1 / num2}\")\n",
    "else:\n",
    "    print(\"Invalid operator! Please use +, -, *, or /.\")\n"
   ]
  },
  {
   "cell_type": "markdown",
   "id": "a38f9229-c177-4944-9701-6e213c1df950",
   "metadata": {},
   "source": [
    "Medium Level Question "
   ]
  },
  {
   "cell_type": "markdown",
   "id": "b162b905-37f7-4913-95ba-5d290aa4d491",
   "metadata": {},
   "source": [
    "Q_1 BMI CALCULATOR"
   ]
  },
  {
   "cell_type": "code",
   "execution_count": 6,
   "id": "5a2689ea-ddd9-4fb1-853b-c0dd83972523",
   "metadata": {},
   "outputs": [
    {
     "name": "stdin",
     "output_type": "stream",
     "text": [
      "Enter your weight in kg :  70\n",
      "Enter your height in meters :  1.655\n"
     ]
    },
    {
     "name": "stdout",
     "output_type": "stream",
     "text": [
      "Overweight\n"
     ]
    }
   ],
   "source": [
    "def Bmi_cal(weight , height):\n",
    "    Bmi = weight / (height ** 2)\n",
    "    return Bmi\n",
    "\n",
    "weight = float(input(\"Enter your weight in kg : \"))\n",
    "height = float(input(\"Enter your height in meters : \"))\n",
    "BMI = Bmi_cal(weight , height)\n",
    "\n",
    "if BMI < 18.1:\n",
    "    print(\"Underweight\")\n",
    "elif 18.1 <= BMI <= 24.9:\n",
    "    print(\"normal weight\")\n",
    "elif 25 <= BMI <= 29.9:\n",
    "    print(\"Overweight\")\n",
    "else:\n",
    "    print(\"Obesity\")"
   ]
  },
  {
   "cell_type": "markdown",
   "id": "e129590e-6e5b-4487-966b-145e3baab37d",
   "metadata": {},
   "source": [
    "Q_2 Discount Calculator"
   ]
  },
  {
   "cell_type": "code",
   "execution_count": 8,
   "id": "18cf103a-64ea-424e-bad8-a0398e9103e3",
   "metadata": {},
   "outputs": [
    {
     "name": "stdin",
     "output_type": "stream",
     "text": [
      "Enter the original price:  20000\n",
      "Enter the discount percentage:  12\n"
     ]
    },
    {
     "name": "stdout",
     "output_type": "stream",
     "text": [
      "Final Price After Discount is: 17600.0\n"
     ]
    }
   ],
   "source": [
    "price = float(input(\"Enter the original price: \"))\n",
    "discount = float(input(\"Enter the discount percentage: \"))\n",
    "\n",
    "discount_amount = (price * discount) / 100\n",
    "\n",
    "final_price = price - discount_amount\n",
    "\n",
    "print(f\"Final Price After Discount is: {final_price}\")\n"
   ]
  },
  {
   "cell_type": "markdown",
   "id": "fc06b025-69b6-4faa-a0f3-0941ea9f85b8",
   "metadata": {},
   "source": [
    "Q_3 Grade Classification"
   ]
  },
  {
   "cell_type": "code",
   "execution_count": 7,
   "id": "54e95f0f-5d3b-4a15-9e48-b62bbcd4dd14",
   "metadata": {},
   "outputs": [
    {
     "name": "stdin",
     "output_type": "stream",
     "text": [
      "Enter the marks of Students :  67\n"
     ]
    },
    {
     "name": "stdout",
     "output_type": "stream",
     "text": [
      "Grade : D\n",
      "Classification : poor\n"
     ]
    }
   ],
   "source": [
    "marks = float(input(\"Enter the marks of Students : \"))\n",
    "\n",
    "if marks >= 90:\n",
    "    print(\"Grade : A\")\n",
    "    print(\"Classification : Excellent\")\n",
    "\n",
    "elif marks >= 80:\n",
    "    print(\"Grade : B\")\n",
    "    print(\"Classification : Good\")\n",
    "\n",
    "elif marks >= 70:\n",
    "    print(\"Grade : C\")\n",
    "    print(\"Classification : Average\")\n",
    "\n",
    "elif marks >= 60:\n",
    "    print(\"Grade : D\")\n",
    "    print(\"Classification : poor\")\n",
    "\n",
    "else:\n",
    "    print(\"Grade : F\")\n",
    "    print(\"Classification : Fail\")"
   ]
  },
  {
   "cell_type": "markdown",
   "id": "dfc0c7f7-0706-4548-b8e9-a85a9308f272",
   "metadata": {},
   "source": [
    "Q_4 Password Strength checker"
   ]
  },
  {
   "cell_type": "code",
   "execution_count": 13,
   "id": "0c3a2bfa-8c36-4530-986d-0dba61dbfb6f",
   "metadata": {},
   "outputs": [
    {
     "name": "stdin",
     "output_type": "stream",
     "text": [
      "Input your password:  gaurav@123\n"
     ]
    },
    {
     "name": "stdout",
     "output_type": "stream",
     "text": [
      "Password must contain at least one uppercase letter.\n",
      "Password does not meet requirements.\n"
     ]
    }
   ],
   "source": [
    "import re\n",
    "\n",
    "def validate_password(password):\n",
    "    if len(password) < 8:\n",
    "        print(\"Password must be at least 8 characters long.\")\n",
    "        return False\n",
    "    if not re.search(r'[A-Z]', password):\n",
    "        print(\"Password must contain at least one uppercase letter.\")\n",
    "        return False\n",
    "    if not re.search(r'[a-z]', password):\n",
    "        print(\"Password must contain at least one lowercase letter.\")\n",
    "        return False\n",
    "    if not re.search(r'\\d', password):\n",
    "        print(\"Password must contain at least one digit.\")\n",
    "        return False\n",
    "    if not re.search(r'[!@#$%^&*(),.?\":{}|<>]', password):\n",
    "        print(\"Password must contain at least one special character.\")\n",
    "        return False\n",
    "    return True\n",
    "\n",
    "password = input(\"Input your password: \")\n",
    "\n",
    "if validate_password(password):\n",
    "    print(\"Valid Password.\")\n",
    "else:\n",
    "    print(\"Password does not meet requirements.\")\n"
   ]
  },
  {
   "cell_type": "markdown",
   "id": "364fe5b8-0f44-4430-af47-b84fc3594e6e",
   "metadata": {},
   "source": [
    "Q_5 Traffic light Simulator"
   ]
  },
  {
   "cell_type": "code",
   "execution_count": 14,
   "id": "7f80d4b6-f72c-4fdc-8ede-f3765975c595",
   "metadata": {},
   "outputs": [
    {
     "name": "stdin",
     "output_type": "stream",
     "text": [
      "Enter the traffic light color (red, yellow, green):  RED\n"
     ]
    },
    {
     "name": "stdout",
     "output_type": "stream",
     "text": [
      "Stop!\n"
     ]
    }
   ],
   "source": [
    "Traffic_lightcolor = input(\"Enter the traffic light color (red, yellow, green): \").lower()\n",
    "\n",
    "if Traffic_lightcolor == 'red':\n",
    "    print(\"Stop!\")\n",
    "elif Traffic_lightcolor == 'yellow':\n",
    "    print(\"Caution! Prepare to stop.\")\n",
    "elif Traffic_lightcolor == 'green':\n",
    "    print(\"Go!\")\n",
    "else:\n",
    "    print(\"Invalid color!\")"
   ]
  },
  {
   "cell_type": "markdown",
   "id": "814983a8-ccaa-4708-ac41-37d28319f83e",
   "metadata": {},
   "source": [
    "Q_6 Simple Interest Calculator"
   ]
  },
  {
   "cell_type": "code",
   "execution_count": 2,
   "id": "ea89de09-b8fd-4f3b-8c50-376e0b05ad07",
   "metadata": {},
   "outputs": [
    {
     "name": "stdin",
     "output_type": "stream",
     "text": [
      "enter principal amount- 200000\n",
      "enter rate of intrest in %- 12\n",
      "enter time period in years- 2\n"
     ]
    },
    {
     "name": "stdout",
     "output_type": "stream",
     "text": [
      "simple intrest is- 48000.0\n"
     ]
    }
   ],
   "source": [
    "principle_amount = float(input(\"enter principal amount-\"))\n",
    "rate_intrest = float(input(\"enter rate of intrest in %-\"))\n",
    "time_period = float(input(\"enter time period in years-\"))\n",
    "simple_intrest = (principle_amount * rate_intrest * time_period)/100\n",
    "if principle_amount > rate_intrest > time_period:\n",
    "    print(\"simple intrest is-\", simple_intrest)\n",
    "else:\n",
    "    print(\"invalid input\")"
   ]
  },
  {
   "cell_type": "markdown",
   "id": "034baaf8-f16a-469e-b7d0-70b30e5d02f4",
   "metadata": {},
   "source": [
    "Q_7 Number Range Checker"
   ]
  },
  {
   "cell_type": "code",
   "execution_count": 3,
   "id": "9d9ec8d0-82a1-4888-9b04-6ab1e51d32da",
   "metadata": {},
   "outputs": [
    {
     "name": "stdin",
     "output_type": "stream",
     "text": [
      "enter number- 23\n"
     ]
    },
    {
     "name": "stdout",
     "output_type": "stream",
     "text": [
      "23 is in range of 1-100\n"
     ]
    }
   ],
   "source": [
    "num = int(input(\"enter number-\"))\n",
    "if num >= 1 and num <= 100:\n",
    "    print(num, \"is in range of 1-100\")\n",
    "else:\n",
    "    print(num, \"is not in range of 1-100\")"
   ]
  },
  {
   "cell_type": "markdown",
   "id": "4ef74ba3-638c-4f3a-831e-d4ae32b055eb",
   "metadata": {},
   "source": [
    "Q_8 Even Number Counter"
   ]
  },
  {
   "cell_type": "code",
   "execution_count": 5,
   "id": "927996a7-e1be-44fe-ab67-d078e0add7b1",
   "metadata": {},
   "outputs": [
    {
     "name": "stdin",
     "output_type": "stream",
     "text": [
      "enter number- 23\n"
     ]
    },
    {
     "name": "stdout",
     "output_type": "stream",
     "text": [
      "number is odd\n"
     ]
    },
    {
     "name": "stdin",
     "output_type": "stream",
     "text": [
      "enter number- 45\n"
     ]
    },
    {
     "name": "stdout",
     "output_type": "stream",
     "text": [
      "number is odd\n"
     ]
    },
    {
     "name": "stdin",
     "output_type": "stream",
     "text": [
      "enter number- -1\n"
     ]
    },
    {
     "name": "stdout",
     "output_type": "stream",
     "text": [
      "total number of even inputs 0\n"
     ]
    }
   ],
   "source": [
    "count = 0\n",
    "while True:\n",
    "    num = int(input(\"enter number-\"))\n",
    "    if num % 2 == 0:\n",
    "        print(num, \"is even number\")\n",
    "        count += 1\n",
    "    elif num == -1:\n",
    "        print(\"total number of even inputs\", count)\n",
    "        break\n",
    "    else:\n",
    "        print(\"number is odd\")"
   ]
  },
  {
   "cell_type": "markdown",
   "id": "7293038d-782f-4dfc-95b1-cd5e642a4c86",
   "metadata": {},
   "source": [
    "Q_9 Rock-Paper-Scissors Game"
   ]
  },
  {
   "cell_type": "code",
   "execution_count": 8,
   "id": "5f072499-bb6b-4573-a16b-e13bb2aeefac",
   "metadata": {},
   "outputs": [
    {
     "name": "stdin",
     "output_type": "stream",
     "text": [
      "user 1 2 3 go- 2\n",
      "comp 1 2 3 go- 2\n"
     ]
    },
    {
     "name": "stdout",
     "output_type": "stream",
     "text": [
      "repeat\n"
     ]
    }
   ],
   "source": [
    "user = input(\"user 1 2 3 go-\")\n",
    "comp = input(\"comp 1 2 3 go-\")\n",
    "if user == comp:\n",
    "    print(\"repeat\")\n",
    "elif (user == \"paper\"  and comp == \"rock\") or (user == \"rock\" and comp == \"scissors\") or (user == \"scissors\" and comp == \"paper\"):\n",
    "    print(\"user wins\")\n",
    "else:\n",
    "    print(\"comp wins\")"
   ]
  },
  {
   "cell_type": "markdown",
   "id": "d8fb5ca5-139a-40cb-85db-8e49d23e3658",
   "metadata": {},
   "source": [
    "Q_10 Month Days Checker"
   ]
  },
  {
   "cell_type": "code",
   "execution_count": 9,
   "id": "5700491a-8620-4fb7-b334-a80920392248",
   "metadata": {},
   "outputs": [
    {
     "name": "stdin",
     "output_type": "stream",
     "text": [
      "enter year- 2004\n",
      "enter month number- 6\n"
     ]
    },
    {
     "name": "stdout",
     "output_type": "stream",
     "text": [
      "6 has 30 days\n"
     ]
    }
   ],
   "source": [
    "year = int(input(\"enter year-\"))\n",
    "month = int(input(\"enter month number-\"))\n",
    "if month in [1, 3, 5, 7, 8, 10, 12]:\n",
    "    print(month, \"has 31 days\")\n",
    "elif month in [4, 6, 9, 11]:\n",
    "    print(month, \"has 30 days\")\n",
    "elif (year % 4 == 0 and year % 100 != 0) or year % 400 == 0: \n",
    "    print(year, \"is leap year therefor\", month, \"has 29 days\")\n",
    "else:\n",
    "    print(year, \"is not leap year therefor\", month, \"has 28 days\")"
   ]
  },
  {
   "cell_type": "markdown",
   "id": "e41a59c6-2920-463e-a649-4454854f186c",
   "metadata": {},
   "source": [
    "Q_11 Grade Point Average (GPA) Calculator"
   ]
  },
  {
   "cell_type": "code",
   "execution_count": 10,
   "id": "017dbf16-1a73-4d35-ba8b-bf2c6db66844",
   "metadata": {},
   "outputs": [
    {
     "name": "stdin",
     "output_type": "stream",
     "text": [
      "Enter letter grades separated by spaces (A B C D F):  B\n"
     ]
    },
    {
     "name": "stdout",
     "output_type": "stream",
     "text": [
      "Your GPA is: 3.00\n"
     ]
    }
   ],
   "source": [
    "grades_input = input(\"Enter letter grades separated by spaces (A B C D F): \")\n",
    "grades_list = grades_input.split()\n",
    "grade_points_mapping = {'A': 4.0, 'B': 3.0, 'C': 2.0, 'D': 1.0, 'F': 0.0}\n",
    "total_points = sum(grade_points_mapping[grade] for grade in grades_list if grade in grade_points_mapping)\n",
    "gpa = total_points / len(grades_list)\n",
    "print(f\"Your GPA is: {gpa:.2f}\")"
   ]
  },
  {
   "cell_type": "markdown",
   "id": "1bf0f09f-8586-470d-8efc-3e3bf9744064",
   "metadata": {},
   "source": [
    "Q_12 voting system"
   ]
  },
  {
   "cell_type": "code",
   "execution_count": 11,
   "id": "5b152fe4-207b-48f6-bee5-faf5d3a649e4",
   "metadata": {},
   "outputs": [
    {
     "name": "stdin",
     "output_type": "stream",
     "text": [
      "Vote for candidate A, B or C (-1 to stop):  A\n"
     ]
    },
    {
     "name": "stdout",
     "output_type": "stream",
     "text": [
      "Vote recorded for candidate A.\n"
     ]
    },
    {
     "name": "stdin",
     "output_type": "stream",
     "text": [
      "Vote for candidate A, B or C (-1 to stop):  A\n"
     ]
    },
    {
     "name": "stdout",
     "output_type": "stream",
     "text": [
      "Vote recorded for candidate A.\n"
     ]
    },
    {
     "name": "stdin",
     "output_type": "stream",
     "text": [
      "Vote for candidate A, B or C (-1 to stop):  B\n"
     ]
    },
    {
     "name": "stdout",
     "output_type": "stream",
     "text": [
      "Vote recorded for candidate B.\n"
     ]
    },
    {
     "name": "stdin",
     "output_type": "stream",
     "text": [
      "Vote for candidate A, B or C (-1 to stop):  -1\n"
     ]
    },
    {
     "name": "stdout",
     "output_type": "stream",
     "text": [
      "Vote of A 2\n",
      "Vote of B 1\n",
      "Vote of C 0\n"
     ]
    }
   ],
   "source": [
    "votes = []\n",
    "while True:\n",
    "    vote = input(\"Vote for candidate A, B or C (-1 to stop): \").upper()\n",
    "    if vote == '-1':\n",
    "        break\n",
    "    if vote in ['A', 'B', 'C']:\n",
    "        votes.append(vote)\n",
    "        print(f\"Vote recorded for candidate {vote}.\")\n",
    "    else:\n",
    "        print(\"Invalid vote! Please vote for A, B or C.\")\n",
    "# Count votes\n",
    "vote_count_A = votes.count('A')\n",
    "vote_count_B = votes.count('B')\n",
    "vote_count_C = votes.count('C')\n",
    "print(\"Vote of A\",vote_count_A)\n",
    "print(\"Vote of B\",vote_count_B)\n",
    "print(\"Vote of C\",vote_count_C)"
   ]
  },
  {
   "cell_type": "code",
   "execution_count": null,
   "id": "253ddeea-4ab2-4f5d-903c-ee3a71e6738c",
   "metadata": {},
   "outputs": [],
   "source": []
  }
 ],
 "metadata": {
  "kernelspec": {
   "display_name": "Python 3 (ipykernel)",
   "language": "python",
   "name": "python3"
  },
  "language_info": {
   "codemirror_mode": {
    "name": "ipython",
    "version": 3
   },
   "file_extension": ".py",
   "mimetype": "text/x-python",
   "name": "python",
   "nbconvert_exporter": "python",
   "pygments_lexer": "ipython3",
   "version": "3.12.7"
  }
 },
 "nbformat": 4,
 "nbformat_minor": 5
}
